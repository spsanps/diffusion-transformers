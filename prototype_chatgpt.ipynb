{
 "cells": [
  {
   "cell_type": "code",
   "execution_count": 1,
   "metadata": {},
   "outputs": [],
   "source": [
    "from scripts.openai_helpers import prompt_request"
   ]
  },
  {
   "cell_type": "code",
   "execution_count": 2,
   "metadata": {},
   "outputs": [],
   "source": [
    "summary = \"\"\"And now, back to Adam. When last we saw him, Adam Bede was walking home. His destination is a \"thatched house, with a stack of timber by the side of it\" . And in this house waits Adam's mother, Lisbeth Bede, a tall, hardy, and very sad woman. Why is Lisbeth sad? Pretty much all thanks to Adam's father, Thias Bede. Instead of doing his work, Thias tends to run off and get drunk. On this particular evening, Adam comes home to find that Thias has left a coffin unfinished. Angered by this, Adam decides to finish the coffin himself. Even if he doesn't sleep, even if he doesn't eat, he'll finish that %@$#*@ coffin. His harsh response upsets Lisbeth, who starts to cry, and reminds him that Thias had once been \"a fine-growed man an' handy at everythin'\" . Adam angrily sets to work. The situation between him and his mother remains tense even when Seth, the family peacemaker, finally shows up. Adam orders Seth to \"shut the door so as I mayn't hear Mother's talk\" . But soon Lisbeth and Seth get to talking. It happens that there's another bone of contention between Adam and Lisbeth. Adam has fallen in love with a pretty young woman named Hetty Sorrel. But as Lisbeth tells Seth, Hetty is the kind of woman who \"as is o' no more use nor the gillyflower on the wall\" . Um, what? Roughly translated, she's useless. But back to Adam. In the course of his work, Adam begins to think about the past, and remembers \"what a fine active fellow\" his father had once been . He also remembers how, annoyed with his father's worsening habits, he had once thought of leaving home. Yet he couldn't bring himself to abandon Seth and Lisbeth, who would have to \"endure everything without him\" . Would you ever imagine that there's a spooky turn ahead? Well, there is. Adam hears a \"smart rap, as with a willow wand\" and wonders what it could mean . Is something wrong in the universe? He's not superstitious, but it is night, he's tired, and he's getting a little skeeved out... In no time at all, it's daybreak, the coffin is finished, and Adam needs to deliver it to its rightful owner. He and Seth prop it on their shoulders and set off into the \"fresh morning, with its Edenlike peace and loveliness\" . Everything suddenly seems good. Actually, it's all too good to be true. While walking back home, Seth notices a strange shape floating in a brook. He points it out, and Adam feels an instinctive dread. The body is Thias Bede. R.I.P. Adam rushes home and orders his mother to prepare a hot blanket. He can't bring himself just yet to tell her what happened to Thias, but he already feels pangs of remorse. As the narrator sums it up, \"it is never our tenderness that we repent of, but our severity\" .\"\"\"\n",
    "\n",
    "system_prompt = \"You are summarizing bot. Summarize given plot in one sentence. Only provide the plot summary - no context is required.\""
   ]
  },
  {
   "cell_type": "code",
   "execution_count": 6,
   "metadata": {},
   "outputs": [
    {
     "data": {
      "text/plain": [
       "\"Adam Bede returns home to find his mother, Lisbeth, sad due to his father's drunkenness, and he decides to finish an unfinished coffin, causing tension between him and his mother; later, while delivering the coffin, they discover the body of Adam's father, Thias, in a brook.\""
      ]
     },
     "execution_count": 6,
     "metadata": {},
     "output_type": "execute_result"
    }
   ],
   "source": [
    "prompt_request(prompt=summary,\n",
    "               system_prompt=system_prompt,\n",
    "                temperature=0,\n",
    "                output_max_tokens=128\n",
    "                )\n"
   ]
  }
 ],
 "metadata": {
  "kernelspec": {
   "display_name": "llama2",
   "language": "python",
   "name": "python3"
  },
  "language_info": {
   "codemirror_mode": {
    "name": "ipython",
    "version": 3
   },
   "file_extension": ".py",
   "mimetype": "text/x-python",
   "name": "python",
   "nbconvert_exporter": "python",
   "pygments_lexer": "ipython3",
   "version": "3.10.12"
  },
  "orig_nbformat": 4
 },
 "nbformat": 4,
 "nbformat_minor": 2
}
