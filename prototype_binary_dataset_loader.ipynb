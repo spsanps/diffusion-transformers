{
 "cells": [
  {
   "cell_type": "code",
   "execution_count": 3,
   "metadata": {},
   "outputs": [],
   "source": [
    "import numpy as np\n",
    "import torch\n",
    "from torch.utils.data import Dataset\n",
    "\n",
    "class BinaryFileDataset(Dataset):\n",
    "    def __init__(self, file_path, dtype=np.float32, sample_shape=None):\n",
    "        self.file_path = file_path\n",
    "        self.dtype = dtype\n",
    "        self.sample_shape = sample_shape\n",
    "\n",
    "        # Compute the size of one sample (in bytes)\n",
    "        sample_size = np.prod(sample_shape) * np.dtype(dtype).itemsize\n",
    "        # Memory-map the binary file\n",
    "        self.mem_map = np.memmap(file_path, dtype=dtype, mode='r')\n",
    "        # Compute the total number of samples in the binary file\n",
    "        self.num_samples = self.mem_map.size // np.prod(sample_shape)\n",
    "        \n",
    "    def __len__(self):\n",
    "        return self.num_samples\n",
    "\n",
    "    def __getitem__(self, idx):\n",
    "        start_idx = np.prod(self.sample_shape) * idx\n",
    "        end_idx = start_idx + np.prod(self.sample_shape)\n",
    "        # Read a chunk from the memory-mapped file\n",
    "        sample_np = self.mem_map[start_idx:end_idx]\n",
    "        sample_np = sample_np.reshape(self.sample_shape)\n",
    "        sample_torch = torch.from_numpy(sample_np)\n",
    "        return {'input': sample_torch}  # No label here; you can add it if needed\n"
   ]
  },
  {
   "cell_type": "code",
   "execution_count": 7,
   "metadata": {},
   "outputs": [],
   "source": [
    "# Define the shape of one sample and its data type (change as needed)\n",
    "sample_shape = (128, 768)  # e.g., (1, 512)\n",
    "dtype = np.float32  # or np.float64, depending on how you saved it\n",
    "\n",
    "# Create a dataset from the binary file\n",
    "dataset = BinaryFileDataset(\n",
    "    \"data/final_layer_output_128.bin\", dtype=dtype, sample_shape=sample_shape\n",
    ")\n",
    "\n",
    "# Create a data loader\n",
    "from torch.utils.data import DataLoader\n",
    "\n",
    "data_loader = DataLoader(dataset, batch_size=1, shuffle=True)"
   ]
  },
  {
   "cell_type": "code",
   "execution_count": 8,
   "metadata": {},
   "outputs": [],
   "source": [
    "# analyze the mean and variance of the dataset\n",
    "mean = 0.\n",
    "std = 0.\n",
    "\n",
    "for batch in data_loader:\n",
    "    data = batch['input']\n",
    "    batch_samples = data.size(0) # batch size (the last batch can have smaller size!)\n",
    "    data = data.view(batch_samples, data.size(1)*data.size(2))\n",
    "    mean += data.mean(1).sum(0)\n",
    "    std += data.std(1).sum(0)\n",
    "\n",
    "mean /= len(data_loader.dataset)\n",
    "std /= len(data_loader.dataset)"
   ]
  },
  {
   "cell_type": "code",
   "execution_count": 9,
   "metadata": {},
   "outputs": [
    {
     "data": {
      "text/plain": [
       "(tensor(0.0094), tensor(0.2968))"
      ]
     },
     "execution_count": 9,
     "metadata": {},
     "output_type": "execute_result"
    }
   ],
   "source": [
    "mean, std"
   ]
  },
  {
   "cell_type": "code",
   "execution_count": 6,
   "metadata": {},
   "outputs": [
    {
     "name": "stdout",
     "output_type": "stream",
     "text": [
      "torch.Size([8, 128, 768])\n"
     ]
    },
    {
     "data": {
      "text/plain": [
       "9600"
      ]
     },
     "execution_count": 6,
     "metadata": {},
     "output_type": "execute_result"
    }
   ],
   "source": [
    "dataiter = iter(data_loader)\n",
    "sample = next(dataiter)\n",
    "#print(sample['input'])\n",
    "print(sample['input'].shape)\n",
    "len(data_loader)*8"
   ]
  }
 ],
 "metadata": {
  "kernelspec": {
   "display_name": "llama2",
   "language": "python",
   "name": "python3"
  },
  "language_info": {
   "codemirror_mode": {
    "name": "ipython",
    "version": 3
   },
   "file_extension": ".py",
   "mimetype": "text/x-python",
   "name": "python",
   "nbconvert_exporter": "python",
   "pygments_lexer": "ipython3",
   "version": "3.10.12"
  },
  "orig_nbformat": 4
 },
 "nbformat": 4,
 "nbformat_minor": 2
}
