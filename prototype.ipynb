{
 "cells": [
  {
   "cell_type": "code",
   "execution_count": 1,
   "metadata": {},
   "outputs": [
    {
     "name": "stderr",
     "output_type": "stream",
     "text": [
      "/home/sanps/.local/lib/python3.10/site-packages/tqdm/auto.py:21: TqdmWarning: IProgress not found. Please update jupyter and ipywidgets. See https://ipywidgets.readthedocs.io/en/stable/user_install.html\n",
      "  from .autonotebook import tqdm as notebook_tqdm\n"
     ]
    },
    {
     "name": "stdout",
     "output_type": "stream",
     "text": [
      "Output from the 1st layer: tensor([[ 0.0578,  0.0075,  0.0527,  ...,  0.0046,  0.0675,  0.0409],\n",
      "        [-0.4209, -0.5495, -0.3218,  ..., -0.6590, -0.5184, -0.1992],\n",
      "        [-0.3015, -0.0852,  0.0357,  ...,  0.0818,  0.0393,  0.1606],\n",
      "        ...,\n",
      "        [ 0.2318, -0.2084, -0.3804,  ...,  0.2239,  0.0119,  0.5822],\n",
      "        [-0.5546, -0.2920, -0.7059,  ...,  0.1167, -0.8506, -0.1790],\n",
      "        [ 0.4089, -0.2618, -0.0814,  ...,  0.2195, -0.2256,  0.0243]],\n",
      "       grad_fn=<SelectBackward0>)\n",
      "Output from the 3rd layer: tensor([[-0.0798, -0.0130,  0.0370,  ..., -0.0301, -0.0240,  0.0010],\n",
      "        [-0.4477,  0.0826, -0.5102,  ..., -0.3439, -0.3431,  0.1879],\n",
      "        [-0.5682, -0.0440,  0.2656,  ..., -0.2387,  0.2210,  0.3535],\n",
      "        ...,\n",
      "        [-0.0783,  0.1977, -0.2083,  ..., -0.1769,  0.5028,  0.5484],\n",
      "        [-0.1375, -0.2172, -0.4222,  ...,  0.5687, -0.8420,  0.4913],\n",
      "        [ 0.0513, -0.4303,  0.5935,  ...,  0.0319, -0.3385,  0.3010]],\n",
      "       grad_fn=<SelectBackward0>)\n",
      "Output from the 5th layer: tensor([[-0.0949,  0.0250, -0.0028,  ...,  0.0415,  0.0056, -0.0078],\n",
      "        [-0.0372,  0.1578, -0.7380,  ...,  0.2345, -0.5656,  0.1165],\n",
      "        [-0.2719, -0.3163, -0.0947,  ..., -0.2344,  0.2523,  0.2327],\n",
      "        ...,\n",
      "        [ 0.4026,  0.3079, -0.2473,  ...,  0.5217,  0.5030,  0.0158],\n",
      "        [ 0.1128, -0.2476, -0.4680,  ...,  0.5787, -0.7768,  0.3405],\n",
      "        [-0.2165, -0.1045,  0.6245,  ...,  0.2556, -0.3947,  0.5664]],\n",
      "       grad_fn=<SelectBackward0>)\n",
      "Output from the last layer: tensor([[-0.0323,  0.0138, -0.0045,  ...,  0.0134, -0.0039,  0.0017],\n",
      "        [ 0.0652,  0.1835, -0.3389,  ...,  0.0431, -0.2310,  0.3223],\n",
      "        [ 0.0288,  0.1380,  0.0478,  ..., -0.0488,  0.0136,  0.1584],\n",
      "        ...,\n",
      "        [ 0.3472,  0.2129, -0.1309,  ...,  0.1497,  0.3055,  0.0351],\n",
      "        [-0.0176,  0.0808, -0.1497,  ...,  0.2045, -0.2745,  0.1677],\n",
      "        [-0.0103, -0.0617,  0.4292,  ...,  0.1632, -0.2120,  0.3502]],\n",
      "       grad_fn=<SelectBackward0>)\n"
     ]
    }
   ],
   "source": [
    "from transformers import BartTokenizer, BartModel\n",
    "import torch\n",
    "\n",
    "# Initialize tokenizer and model\n",
    "tokenizer = BartTokenizer.from_pretrained('facebook/bart-base')\n",
    "model = BartModel.from_pretrained('facebook/bart-base', output_hidden_states=True)\n",
    "\n",
    "# Prepare a sample sentence\n",
    "sentence = \"Hello, how are you?\"\n",
    "input_ids = tokenizer(sentence, return_tensors='pt')['input_ids']\n",
    "\n",
    "# Forward pass to get all hidden states\n",
    "outputs = model(input_ids)\n",
    "hidden_states = outputs.encoder_hidden_states\n",
    "\n",
    "# Extract outputs from the 1st, 3rd, 5th, and last layers of the encoder\n",
    "first_layer_output = hidden_states[0][0]\n",
    "third_layer_output = hidden_states[2][0]\n",
    "fifth_layer_output = hidden_states[4][0]\n",
    "last_layer_output = hidden_states[-1][0]\n",
    "\n",
    "# Do something with these outputs\n",
    "print(\"Output from the 1st layer:\", first_layer_output)\n",
    "print(\"Output from the 3rd layer:\", third_layer_output)\n",
    "print(\"Output from the 5th layer:\", fifth_layer_output)\n",
    "print(\"Output from the last layer:\", last_layer_output)"
   ]
  },
  {
   "cell_type": "code",
   "execution_count": 4,
   "metadata": {},
   "outputs": [
    {
     "data": {
      "text/plain": [
       "torch.Size([1, 8])"
      ]
     },
     "execution_count": 4,
     "metadata": {},
     "output_type": "execute_result"
    }
   ],
   "source": [
    "input_ids.shape"
   ]
  },
  {
   "cell_type": "code",
   "execution_count": 5,
   "metadata": {},
   "outputs": [
    {
     "data": {
      "text/plain": [
       "torch.Size([8, 768])"
      ]
     },
     "execution_count": 5,
     "metadata": {},
     "output_type": "execute_result"
    }
   ],
   "source": [
    "first_layer_output.shape"
   ]
  },
  {
   "cell_type": "code",
   "execution_count": 2,
   "metadata": {},
   "outputs": [
    {
     "name": "stderr",
     "output_type": "stream",
     "text": [
      "Found cached dataset csv (/data1/sanps/hf_cache/kmfoda___csv/kmfoda--booksum-025141c210e07407/0.0.0/6954658bab30a358235fa864b05cf819af0e179325c740e4bc853bcc7ec513e1)\n",
      "100%|██████████| 3/3 [00:00<00:00, 947.87it/s]"
     ]
    },
    {
     "name": "stdout",
     "output_type": "stream",
     "text": [
      "{'bid': 27681, 'is_aggregate': True, 'source': 'cliffnotes', 'chapter_path': 'all_chapterized_books/27681-chapters/chapters_1_to_2.txt', 'summary_path': 'finished_summaries/cliffnotes/The Last of the Mohicans/section_1_part_0.txt', 'book_id': 'The Last of the Mohicans.chapters 1-2', 'summary_id': 'chapters 1-2', 'content': None, 'summary': '{\"name\": \"Chapters 1-2\", \"url\": \"https://web.archive.org/web/20201101053205/https://www.cliffsnotes.com/literature/l/the-last-of-the-mohicans/summary-and-analysis/chapters-12\", \"summary\": \"Before any characters appear, the time and geography are made clear. Though it is the last war that England and France waged for a country that neither would retain, the wilderness between the forces still has to be overcome first. Thus it is in 1757, in the New York area between the head waters of the Hudson River and Lake George to the north. Because only two years earlier General Braddock was disgracefully routed by a handful of French and Indians, the frontier is now exposed to real and imaginary savage disasters as well as to the horrors of warfare. Fear has replaced reason. Near dusk of a day in July, an Indian runner named Magua arrives at Fort Edward on the upper Hudson. He has come from Fort William Henry at the southern tip of Lake George with the news that the French General Montcalm is moving south with a very large army and that Munro, commander of Fort William Henry, is in urgent need of plentiful reinforcements from General Webb. Early the next morning, a limited detachment of fifteen hundred regulars and colonists departs as if swallowed by the forest. Shortly afterwards, Major Duncan Heyward and Alice and Cora Munro, guided by Magua on foot, take by horseback a secret route toward William Henry for the girls to join their father. Blonde Alice is doubtful about Magua, covered with war paint and showing a sullen fierceness; but dark-haired Cora is stoically common sense about him, even though Heyward mentions that their father had once had to deal rigidly with the Indian. As the small party pushes on, they are overtaken by David Gamut, a tall, ungainly psalmodist ridiculously dressed and carrying a pitch pipe while riding a mare followed by its young colt. He desires to join them, and after some banter between him and Alice, he pulls out the twenty-sixth edition of The Bay Psalm Book, sounds his pipe, and renders a song \\\\\"in full, sweet, and melodious tones.\\\\\" At a muttered comment from Magua, Heyward insists upon silence for safety. Then he glances about them and, satisfied that he has seen only shining berries, smiles to himself as they move on. But he is wrong. The branches move and a man peers exultingly after them as they disappear among the dark lines of trees.\", \"analysis\": \"These two chapters introduce the reader to the historical and natural settings and are indicative of the extent to which this book, as a historical novel, relates its fictional characters to real history. Only here at the beginning and later at mid-novel will the action coincide in detail with actual events, though the historic war is always somewhere in the near distance. These chapters also present four of the main fictional characters and one secondary one, all of whom will merit our concern henceforth. Major Heyward is the gallant romantic hero, but unlike most sentimental romances where for each hero there is one heroine, here there are two, Alice and Cora, blonde and brunette. And it is immediately apparent that the old tradition of weak-blonde-strong-brunette contrast is at work, stereotyping the fair Alice and dark Cora. These three are rather predictable types which both simplify and stultify the writer\\'s efforts with them. Magua\\'s stealthy eyes and abrupt, furtive actions mark him as a potential villain, while the exaggerated presentation of the simple, single-minded Gamut paints him as the comic and perhaps pitiable adult innocent. At this point, both are something less than realistic and fully vitalized characters, but in comparison to the other three they seem to breathe real air. The stature of originality and verisimilitude that they do show is doubtless due to the fact that they are native characters. One may note, for instance, that Heyward\\'s comment about Munro\\'s once dealing rigidly with Magua not only lends suspense to the situation and points to the theme of revenge but also suggests some depth of motivation for the Indian. What we call plot -- the complications of a situation and the subsequent events and actions that further entangle things before they are finally resolved in some fashion -- starts an early ferment in terms of danger and suspense. Four likable and somewhat innocent characters strike into the unknown forest wilderness with a doubtful guide. It is a time of urgency, and movement is swift. Cooper hardly gives the reader time to question seriously why Munro\\'s daughters would push forward their visit at this worst of times and would feel themselves safer almost alone on a dim path in savage-infested territory than in the company of fifteen hundred trained fighting men. This represents a lack in character motivation, but Cooper knows that he must get his people into jeopardy, and he at least partly succeeds in hiding this lack under suspenseful action and a sense of urgency. But in spite of the pace, Cooper also manages a good instance of dramatic irony, a fictional presentation in which the reader is allowed to see or deduce predicaments unknown or only partly known by the characters. It is thus that the first part of the pattern of action -- that of pursuit -- has begun.\"}', 'chapter': '\\n  \"Mine ear is open, and my heart prepared:\\n  The worst is worldly loss thou canst unfold:\\n  Say, is my kingdom lost?\"\\n\\n  SHAKESPEARE.\\n\\n\\nIt was a feature peculiar to the colonial wars of North America, that\\nthe toils and dangers of the wilderness were to be encountered before\\nthe adverse hosts could meet. A wide and apparently an impervious\\nboundary of forests severed the possessions of the hostile provinces of\\nFrance and England. The hardy colonist, and the trained European who\\nfought at his side, frequently expended months in struggling against the\\nrapids of the streams, or in effecting the rugged passes of the\\nmountains, in quest of an opportunity to exhibit their courage in a more\\nmartial conflict. But, emulating the patience and self-denial of the\\npractised native warriors, they learned to overcome every difficulty;\\nand it would seem that, in time, there was no recess of the woods so\\ndark, nor any secret place so lovely, that it might claim exemption from\\nthe inroads of those who had pledged their blood to satiate their\\nvengeance, or to uphold the cold and selfish policy of the distant\\nmonarchs of Europe.\\n\\nPerhaps no district throughout the wide extent of the intermediate\\nfrontiers can furnish a livelier picture of the cruelty and fierceness\\nof the savage warfare of those periods than the country which lies\\nbetween the head waters of the Hudson and the adjacent lakes.\\n\\nThe facilities which nature had there offered to the march of the\\ncombatants were too obvious to be neglected. The lengthened sheet of the\\nChamplain stretched from the frontiers of Canada, deep within the\\nborders of the neighboring province of New York, forming a natural\\npassage across half the distance that the French were compelled to\\nmaster in order to strike their enemies. Near its southern termination,\\nit received the contributions of another lake, whose waters were so\\nlimpid as to have been exclusively selected by the Jesuit missionaries\\nto perform the typical purification of baptism, and to obtain for it the\\ntitle of lake \"du Saint Sacrement.\" The less zealous English thought\\nthey conferred a sufficient honor on its unsullied fountains, when they\\nbestowed the name of their reigning prince, the second of the house of\\nHanover. The two united to rob the untutored possessors of its wooded\\nscenery of their native right to perpetuate its original appellation of\\n\"Horican.\"[1]\\n\\nWinding its way among countless islands, and imbedded in mountains, the\\n\"holy lake\" extended a dozen leagues still farther to the south. With\\nthe high plain that there interposed itself to the further passage of\\nthe water, commenced a portage of as many miles, which conducted the\\nadventurer to the banks of the Hudson, at a point where, with the usual\\nobstructions of the rapids, or rifts, as they were then termed in the\\nlanguage of the country, the river became navigable to the tide.\\n\\nWhile, in the pursuit of their daring plans of annoyance, the restless\\nenterprise of the French even attempted the distant and difficult gorges\\nof the Alleghany, it may easily be imagined that their proverbial\\nacuteness would not overlook the natural advantages of the district we\\nhave just described. It became, emphatically, the bloody arena, in which\\nmost of the battles for the mastery of the colonies were contested.\\nForts were erected at the different points that commanded the facilities\\nof the route, and were taken and retaken, razed and rebuilt, as victory\\nalighted on the hostile banners. While the husbandman shrank back from\\nthe dangerous passes, within the safer boundaries of the more ancient\\nsettlements, armies larger than those that had often disposed of the\\nsceptres of the mother countries, were seen to bury themselves in these\\nforests, whence they rarely returned but in skeleton bands, that were\\nhaggard with care, or dejected by defeat. Though the arts of peace were\\nunknown to this fatal region, its forests were alive with men; its\\nshades and glens rang with the sounds of martial music, and the echoes\\nof its mountains threw back the laugh, or repeated the wanton cry, of\\nmany a gallant and reckless youth, as he hurried by them, in the\\nnoontide of his spirits, to slumber in a long night of forgetfulness.\\n\\nIt was in this scene of strife and bloodshed that the incidents we shall\\nattempt to relate occurred, during the third year of the war which\\nEngland and France last waged for the possession of a country that\\nneither was destined to retain.\\n\\nThe imbecility of her military leaders abroad, and the fatal want of\\nenergy in her councils at home, had lowered the character of Great\\nBritain from the proud elevation on which it had been placed, by the\\ntalents and enterprise of her former warriors and statesmen. No longer\\ndreaded by her enemies, her servants were fast losing the confidence of\\nself-respect. In this mortifying abasement, the colonists, though\\ninnocent of her imbecility, and too humble to be the agents of her\\nblunders, were but the natural participators.\\n\\nThey had recently seen a chosen army from that country, which,\\nreverencing as a mother, they had blindly believed invincible--an army\\nled by a chief who had been selected from a crowd of trained warriors,\\nfor his rare military endowments, disgracefully routed by a handful of\\nFrench and Indians, and only saved from annihilation by the coolness and\\nspirit of a Virginian boy, whose riper fame has since diffused itself,\\nwith the steady influence of moral truth, to the uttermost confines of\\nChristendom.[2] A wide frontier had been laid naked by this unexpected\\ndisaster, and more substantial evils were preceded by a thousand\\nfanciful and imaginary dangers. The alarmed colonists believed that the\\nyells of the savages mingled with every fitful gust of wind that issued\\nfrom the interminable forests of the west. The terrific character of\\ntheir merciless enemies increased immeasurably the natural horrors of\\nwarfare. Numberless recent massacres were still vivid in their\\nrecollections; nor was there any ear in the provinces so deaf as not to\\nhave drunk in with avidity the narrative of some fearful tale of\\nmidnight murder, in which the natives of the forests were the principal\\nand barbarous actors. As the credulous and excited traveller related the\\nhazardous chances of the wilderness, the blood of the timid curdled\\nwith terror, and mothers cast anxious glances even at those children\\nwhich slumbered within the security of the largest towns. In short, the\\nmagnifying influence of fear began to set at naught the calculations of\\nreason, and to render those who should have remembered their manhood,\\nthe slaves of the basest of passions. Even the most confident and the\\nstoutest hearts began to think the issue of the contest was becoming\\ndoubtful; and that abject class was hourly increasing in numbers, who\\nthought they foresaw all the possessions of the English crown in America\\nsubdued by their Christian foes, or laid waste by the inroads of their\\nrelentless allies.\\n\\nWhen, therefore, intelligence was received at the fort, which covered\\nthe southern termination of the portage between the Hudson and the\\nlakes, that Montcalm had been seen moving up the Champlain, with an army\\n\"numerous as the leaves on the trees,\" its truth was admitted with more\\nof the craven reluctance of fear than with the stern joy that a warrior\\nshould feel, in finding an enemy within reach of his blow. The news had\\nbeen brought, towards the decline of a day in midsummer, by an Indian\\nrunner, who also bore an urgent request from Munro, the commander of a\\nwork on the shore of the \"holy lake,\" for a speedy and powerful\\nreinforcement. It has already been mentioned that the distance between\\nthese two posts was less than five leagues. The rude path, which\\noriginally formed their line of communication, had been widened for the\\npassage of wagons; so that the distance which had been travelled by the\\nson of the forest in two hours, might easily be effected by a detachment\\nof troops, with their necessary baggage, between the rising and setting\\nof a summer sun. The loyal servants of the British crown had given to\\none of these forest fastnesses the name of William Henry, and to the\\nother that of Fort Edward; calling each after a favorite prince of the\\nreigning family. The veteran Scotchman just named held the first, with a\\nregiment of regulars and a few provincials; a force really by far too\\nsmall to make head against the formidable power that Montcalm was\\nleading to the foot of his earthen mounds. At the latter, however, lay\\nGeneral Webb, who commanded the armies of the king in the northern\\nprovinces, with a body of more than five thousand men. By uniting the\\nseveral detachments of his command, this officer might have arrayed\\nnearly double that number of combatants against the enterprising\\nFrenchman, who had ventured so far from his reinforcements, with an army\\nbut little superior in numbers.\\n\\nBut under the influence of their degraded fortunes, both officers and\\nmen appeared better disposed to await the approach of their formidable\\nantagonists, within their works, than to resist the progress of their\\nmarch, by emulating the successful example of the French at Fort du\\nQuesne, and striking a blow on their advance.\\n\\nAfter the first surprise of the intelligence had a little abated, a\\nrumor was spread through the entrenched camp, which stretched along the\\nmargin of the Hudson, forming a chain of outworks to the body of the\\nfort itself, that a chosen detachment of fifteen hundred men was to\\ndepart, with the dawn, for William Henry, the post at the northern\\nextremity of the portage. That which at first was only rumor, soon\\nbecame certainty, as orders passed from the quarters of the\\ncommander-in-chief to the several corps he had selected for this\\nservice, to prepare for their speedy departure. All doubt as to the\\nintention of Webb now vanished, and an hour or two of hurried footsteps\\nand anxious faces succeeded. The novice in the military art flew from\\npoint to point, retarding his own preparations by the excess of his\\nviolent and somewhat distempered zeal; while the more practised veteran\\nmade his arrangements with a deliberation that scorned every appearance\\nof haste; though his sober lineaments and anxious eye sufficiently\\nbetrayed that he had no very strong professional relish for the as yet\\nuntried and dreaded warfare of the wilderness. At length the sun set in\\na flood of glory, behind the distant western hills, and as darkness drew\\nits veil around the secluded spot the sounds of preparation diminished;\\nthe last light finally disappeared from the log cabin of some officer;\\nthe trees cast their deeper shadows over the mounds and the rippling\\nstream, and a silence soon pervaded the camp, as deep as that which\\nreigned in the vast forest by which it was environed.\\n\\nAccording to the orders of the preceding night, the heavy sleep of the\\narmy was broken by the rolling of the warning drums, whose rattling\\nechoes were heard issuing, on the damp morning air, out of every vista\\nof the woods, just as day began to draw the shaggy outlines of some tall\\npines of the vicinity, on the opening brightness of a soft and cloudless\\neastern sky. In an instant the whole camp was in motion; the meanest\\nsoldier arousing from his lair to witness the departure of his\\ncomrades, and to share in the excitement and incidents of the hour. The\\nsimple array of the chosen band was soon completed. While the regular\\nand trained hirelings of the king marched with haughtiness to the right\\nof the line, the less pretending colonists took their humbler position\\non its left, with a docility that long practice had rendered easy. The\\nscouts departed; strong guards preceded and followed the lumbering\\nvehicles that bore the baggage; and before the gray light of the morning\\nwas mellowed by the rays of the sun, the main body of the combatants\\nwheeled into column, and left the encampment with a show of high\\nmilitary bearing, that served to drown the slumbering apprehensions of\\nmany a novice, who was now about to make his first essay in arms. While\\nin view of their admiring comrades, the same proud front and ordered\\narray was observed, until the notes of their fifes growing fainter in\\ndistance, the forest at length appeared to swallow up the living mass\\nwhich had slowly entered its bosom.\\n\\nThe deepest sounds of the retiring and invisible column had ceased to be\\nborne on the breeze to the listeners, and the latest straggler had\\nalready disappeared in pursuit; but there still remained the signs of\\nanother departure, before a log cabin of unusual size and\\naccommodations, in front of which those sentinels paced their rounds,\\nwho were known to guard the person of the English general. At this spot\\nwere gathered some half dozen horses, caparisoned in a manner which\\nshowed that two, at least, were destined to bear the persons of females,\\nof a rank that it was not usual to meet so far in the wilds of the\\ncountry. A third wore the trappings and arms of an officer of the staff;\\nwhile the rest, from the plainness of the housings, and the travelling\\nmails with which they were encumbered, were evidently fitted for the\\nreception of as many menials, who were, seemingly, already awaiting the\\npleasure of those they served. At a respectful distance from this\\nunusual show were gathered divers groups of curious idlers; some\\nadmiring the blood and bone of the high-mettled military charger, and\\nothers gazing at the preparations, with dull wonder of vulgar curiosity.\\nThere was one man, however, who, by his countenance and actions, formed\\na marked exception to those who composed the latter class of spectators,\\nbeing neither idle, nor seemingly very ignorant.\\n\\nThe person of this individual was to the last degree ungainly, without\\nbeing in any particular manner deformed. He had all the bones and joints\\nof other men, without any of their proportions. Erect, his stature\\nsurpassed that of his fellows; seated, he appeared reduced within the\\nordinary limits of the race. The same contrariety in his members seemed\\nto exist throughout the whole man. His head was large; his shoulders\\nnarrow; his arms long and dangling; while his hands were small, if not\\ndelicate. His legs and thighs were thin, nearly to emaciation, but of\\nextraordinary length; and his knees would have been considered\\ntremendous, had they not been outdone by the broader foundations on\\nwhich this false superstructure of the blended human orders was so\\nprofanely reared. The ill-assorted and injudicious attire of the\\nindividual only served to render his awkwardness more conspicuous. A\\nsky-blue coat, with short and broad skirts and low cape, exposed a long\\nthin neck, and longer and thinner legs, to the worst animadversions of\\nthe evil disposed. His nether garment was of yellow nankeen, closely\\nfitted to the shape, and tied at his bunches of knees by large knots of\\nwhite ribbon, a good deal sullied by use. Clouded cotton stockings, and\\nshoes, on one of the latter of which was a plated spur, completed the\\ncostume of the lower extremity of this figure, no curve or angle of\\nwhich was concealed, but, on the other hand, studiously exhibited,\\nthrough the vanity or simplicity of its owner. From beneath the flap of\\nan enormous pocket of a soiled vest of embossed silk, heavily ornamented\\nwith tarnished silver lace, projected an instrument, which, from being\\nseen in such martial company, might have been easily mistaken for some\\nmischievous and unknown implement of war. Small as it was, this uncommon\\nengine had excited the curiosity of most of the Europeans in the camp,\\nthough several of the provincials were seen to handle it, not only\\nwithout fear, but with the utmost familiarity. A large, civil cocked\\nhat, like those worn by clergymen within the last thirty years,\\nsurmounted the whole, furnishing dignity to a good-natured and somewhat\\nvacant countenance, that apparently needed such artificial aid, to\\nsupport the gravity of some high and extraordinary trust.\\n\\nWhile the common herd stood aloof, in deference to the quarters of Webb,\\nthe figure we have described stalked in the centre of the domestics,\\nfreely expressing his censures or commendations on the merits of the\\nhorses, as by chance they displeased or satisfied his judgment.\\n\\n\"This beast, I rather conclude, friend, is not of home raising, but is\\nfrom foreign lands, or perhaps from the little island itself over the\\nblue water?\" he said, in a voice as remarkable for the softness and\\nsweetness of its tones, as was his person for its rare proportions: \"I\\nmay speak of these things, and be no braggart; for I have been down at\\nboth havens; that which is situate at the mouth of Thames, and is named\\nafter the capital of Old England, and that which is called \\'Haven,\\' with\\nthe addition of the word \\'New\\'; and have seen the snows and brigantines\\ncollecting their droves, like the gathering to the ark, being outward\\nbound to the Island of Jamaica, for the purpose of barter and traffic in\\nfour-footed animals; but never before have I beheld a beast which\\nverified the true Scripture war-horse like this: \\'He paweth in the\\nvalley, and rejoiceth in his strength: he goeth on to meet the armed\\nmen. He saith among the trumpets, Ha, ha; and he smelleth the battle\\nafar off, the thunder of the captains, and the shouting.\\' It would seem\\nthat the stock of the horse of Israel has descended to our own time;\\nwould it not, friend?\"\\n\\nReceiving no reply to this extraordinary appeal, which in truth, as it\\nwas delivered with the vigor of full and sonorous tones, merited some\\nsort of notice, he who had thus sung forth the language of the Holy Book\\nturned to the silent figure to whom he had unwittingly addressed\\nhimself, and found a new and more powerful subject of admiration in the\\nobject that encountered his gaze. His eyes fell on the still, upright,\\nand rigid form of the \"Indian runner,\" who had borne to the camp the\\nunwelcome tidings of the preceding evening. Although in a state of\\nperfect repose, and apparently disregarding, with characteristic\\nstoicism, the excitement and bustle around him, there was a sullen\\nfierceness mingled with the quiet of the savage, that was likely to\\narrest the attention of much more experienced eyes than those which now\\nscanned him, in unconcealed amazement. The native bore both the tomahawk\\nand knife of his tribe; and yet his appearance was not altogether that\\nof a warrior. On the contrary, there was an air of neglect about his\\nperson, like that which might have proceeded from great and recent\\nexertion, which he had not yet found leisure to repair. The colors of\\nthe war-paint had blended in dark confusion about his fierce\\ncountenance, and rendered his swarthy lineaments still more savage and\\nrepulsive than if art had attempted an effect which had been thus\\nproduced by chance. His eye, alone, which glistened like a fiery star\\namid lowering clouds, was to be seen in its state of native wildness.\\nFor a single instant, his searching and yet wary glance met the\\nwondering look of the other, and then changing its direction, partly in\\ncunning, and partly in disdain, it remained fixed, as if penetrating the\\ndistant air.\\n\\nIt is impossible to say what unlooked-for remark this short and silent\\ncommunication, between two such singular men, might have elicited from\\nthe white man, had not his active curiosity been again drawn to other\\nobjects. A general movement among the domestics, and a low sound of\\ngentle voices, announced the approach of those whose presence alone was\\nwanted to enable the cavalcade to move. The simple admirer of the\\nwar-horse instantly fell back to a low, gaunt, switch-tailed mare, that\\nwas unconsciously gleaning the faded herbage of the camp nigh by; where,\\nleaning with one elbow on the blanket that concealed an apology for a\\nsaddle, he became a spectator of the departure, while a foal was quietly\\nmaking its morning repast, on the opposite side of the same animal.\\n\\nA young man, in the dress of an officer, conducted to their steeds two\\nfemales, who, as it was apparent by their dresses, were prepared to\\nencounter the fatigues of a journey in the woods. One, and she was the\\nmost juvenile in her appearance, though both were young, permitted\\nglimpses of her dazzling complexion, fair golden hair, and bright blue\\neyes, to be caught, as she artlessly suffered the morning air to blow\\naside the green veil which descended low from her beaver. The flush\\nwhich still lingered above the pines in the western sky was not more\\nbright nor delicate than the bloom on her cheek; nor was the opening day\\nmore cheering than the animated smile which she bestowed on the youth,\\nas he assisted her into the saddle. The other, who appeared to share\\nequally in the attentions of the young officer, concealed her charms\\nfrom the gaze of the soldiery, with a care that seemed better fitted to\\nthe experience of four or five additional years. It could be seen,\\nhowever, that her person, though moulded with the same exquisite\\nproportions, of which none of the graces were lost by the travelling\\ndress she wore, was rather fuller and more mature than that of her\\ncompanion.\\n\\nNo sooner were these females seated, than their attendant sprang lightly\\ninto the saddle of the war-horse, when the whole three bowed to Webb,\\nwho, in courtesy, awaited their parting on the threshold of his cabin,\\nand turning their horses\\' heads, they proceeded at a slow amble,\\nfollowed by their train, towards the northern entrance of the\\nencampment. As they traversed that short distance, not a voice was\\nheard amongst them; but a slight exclamation proceeded from the younger\\nof the females, as the Indian runner glided by her, unexpectedly, and\\nled the way along the military road in her front. Though this sudden and\\nstartling movement of the Indian produced no sound from the other, in\\nthe surprise her veil also was allowed to open its folds, and betrayed\\nan indescribable look of pity, admiration, and horror, as her dark eye\\nfollowed the easy motions of the savage. The tresses of this lady were\\nshining and black, like the plumage of the raven. Her complexion was not\\nbrown, but it rather appeared charged with the color of the rich blood,\\nthat seemed ready to burst its bounds. And yet there was neither\\ncoarseness nor want of shadowing in a countenance that was exquisitely\\nregular and dignified, and surpassingly beautiful. She smiled, as if in\\npity at her own momentary forgetfulness, discovering by the act a row of\\nteeth that would have shamed the purest ivory; when, replacing the veil,\\nshe bowed her face, and rode in silence, like one whose thoughts were\\nabstracted from the scene around her.\\n\\n\\n\\n\\n  \"Sola, sola, wo, ha, ho, sola!\"\\n\\n  SHAKESPEARE.\\n\\n\\nWhile one of the lovely beings we have so cursorily presented to the\\nreader was thus lost in thought, the other quickly recovered from the\\nalarm which induced the exclamation, and, laughing at her own weakness,\\nshe inquired of the youth who rode by her side,--\\n\\n\"Are such spectres frequent in the woods, Heyward; or is this sight an\\nespecial entertainment on our behalf? If the latter, gratitude must\\nclose our mouths; but if the former, both Cora and I shall have need to\\ndraw largely on that stock of hereditary courage which we boast, even\\nbefore we are made to encounter the redoubtable Montcalm.\"\\n\\n\"Yon Indian is a \\'runner\\' of the army; and, after the fashion of his\\npeople, he may be accounted a hero,\" returned the officer. \"He has\\nvolunteered to guide us to the lake, by a path but little known, sooner\\nthan if we followed the tardy movements of the column: and, by\\nconsequence, more agreeably.\"\\n\\n\"I like him not,\" said the lady, shuddering, partly in assumed, yet more\\nin real terror. \"You know him, Duncan, or you would not trust yourself\\nso freely to his keeping?\"\\n\\n\"Say, rather, Alice, that I would not trust you. I do know him, or he\\nwould not have my confidence, and least of all at this moment. He is\\nsaid to be a Canadian, too; and yet he served with our friends the\\nMohawks, who, as you know, are one of the six allied nations.[3] He was\\nbrought among us, as I have heard, by some strange accident in which\\nyour father was interested, and in which the savage was rigidly dealt\\nby--but I forget the idle tale; it is enough, that he is now our\\nfriend.\"\\n\\n\"If he has been my father\\'s enemy, I like him still less!\" exclaimed the\\nnow really anxious girl. \"Will you not speak to him, Major Heyward, that\\nI may hear his tones? Foolish though it may be, you have often heard me\\navow my faith in the tones of the human voice!\"\\n\\n\"It would be in vain; and answered, most probably, by an ejaculation.\\nThough he may understand it, he affects, like most of his people, to be\\nignorant of the English; and least of all will he condescend to speak\\nit, now that war demands the utmost exercise of his dignity. But he\\nstops; the private path by which we are to journey is, doubtless, at\\nhand.\"\\n\\nThe conjecture of Major Heyward was true. When they reached the spot\\nwhere the Indian stood, pointing into the thicket that fringed the\\nmilitary road, a narrow and blind path, which might, with some little\\ninconvenience, receive one person at a time, became visible.\\n\\n\"Here, then, lies our way,\" said the young man, in a low voice.\\n\"Manifest no distrust, or you may invite the danger you appear to\\napprehend.\"\\n\\n\"Cora, what think you?\" asked the reluctant fair one. \"If we journey\\nwith the troops, though we may find their presence irksome, shall we not\\nfeel better assurance of our safety?\"\\n\\n\"Being little accustomed to the practices of the savages, Alice, you\\nmistake the place of real danger,\" said Heyward. \"If enemies have\\nreached the portage at all, a thing by no means probable, as our scouts\\nare abroad, they will surely be found skirting the column where scalps\\nabound the most. The route of the detachment is known, while ours,\\nhaving been determined within the hour, must still be secret.\"\\n\\n\"Should we distrust the man because his manners are not our manners, and\\nthat his skin is dark?\" coldly asked Cora.\\n\\nAlice hesitated no longer; but giving her Narragansett[4] a smart cut\\nof the whip, she was the first to dash aside the slight branches of the\\nbushes, and to follow the runner along the dark and tangled pathway. The\\nyoung man regarded the last speaker in open admiration, and even\\npermitted her fairer though certainly not more beautiful companion to\\nproceed unattended, while he sedulously opened the way himself for the\\npassage of her who has been called Cora. It would seem that the\\ndomestics had been previously instructed; for, instead of penetrating\\nthe thicket, they followed the route of the column; a measure which\\nHeyward stated had been dictated by the sagacity of their guide, in\\norder to diminish the marks of their trail, if, haply, the Canadian\\nsavages should be lurking so far in advance of their army. For many\\nminutes the intricacy of the route admitted of no further dialogue;\\nafter which they emerged from the broad border of underbrush which grew\\nalong the line of the highway, and entered under the high but dark\\narches of the forest. Here their progress was less interrupted, and the\\ninstant the guide perceived that the females could command their steeds,\\nhe moved on, at a pace between a trot and a walk, and at a rate which\\nkept the sure-footed and peculiar animals they rode, at a fast yet easy\\namble. The youth had turned to speak to the dark-eyed Cora, when the\\ndistant sound of horses\\' hoofs, clattering over the roots of the broken\\nway in his rear, caused him to check his charger; and, as his companions\\ndrew their reins at the same instant, the whole party came to a halt, in\\norder to obtain an explanation of the unlooked-for interruption.\\n\\nIn a few moments a colt was seen gliding, like a fallow-deer, among the\\nstraight trunks of the pines; and, in another instant, the person of the\\nungainly man described in the preceding chapter, came into view, with as\\nmuch rapidity as he could excite his meagre beast to endure without\\ncoming to an open rupture. Until now this personage had escaped the\\nobservation of the travellers. If he possessed the power to arrest any\\nwandering eye when exhibiting the glories of his altitude on foot, his\\nequestrian graces were still more likely to attract attention.\\nNotwithstanding a constant application of his one armed heel to the\\nflanks of the mare, the most confirmed gait that he could establish was\\na Canterbury gallop with the hind legs, in which those more forward\\nassisted for doubtful moments, though generally content to maintain a\\nloping trot. Perhaps the rapidity of the changes from one of these paces\\nto the other created an optical illusion, which might thus magnify the\\npowers of the beast; for it is certain that Heyward, who possessed a\\ntrue eye for the merits of a horse, was unable, with his utmost\\ningenuity, to decide by what sort of movement his pursuer worked his\\nsinuous way on his footsteps with such persevering hardihood.\\n\\nThe industry and movements of the rider were not less remarkable than\\nthose of the ridden. At each change in the evolutions of the latter, the\\nformer raised his tall person in the stirrups; producing, in this\\nmanner, by the undue elongation of his legs, such sudden growths and\\ndiminishings of the stature, as baffled every conjecture that might be\\nmade as to his dimensions. If to this be added the fact that, in\\nconsequence of the ex parte application of the spur, one side of the\\nmare appeared to journey faster than the other; and that the aggrieved\\nflank was resolutely indicated by unremitted flourishes of a bushy tail,\\nwe finish the picture of both horse and man.\\n\\nThe frown which had gathered around the handsome, open, and manly brow\\nof Heyward, gradually relaxed, and his lips curled into a slight smile,\\nas he regarded the stranger. Alice made no very powerful effort to\\ncontrol her merriment; and even the dark, thoughtful eye of Cora lighted\\nwith a humor that, it would seem, the habit, rather than the nature of\\nits mistress repressed.\\n\\n\"Seek you any here?\" demanded Heyward, when the other had arrived\\nsufficiently nigh to abate his speed; \"I trust you are no messenger of\\nevil tidings?\"\\n\\n\"Even so,\" replied the stranger, making diligent use of his triangular\\ncastor, to produce a circulation in the close air of the woods, and\\nleaving his hearers in doubt to which of the young man\\'s questions he\\nresponded; when, however, he had cooled his face, and recovered his\\nbreath, he continued, \"I hear you are riding to William Henry; as I am\\njourneying thitherward myself, I concluded good company would seem\\nconsistent to the wishes of both parties.\"\\n\\n\"You appear to possess the privilege of a casting vote,\" returned\\nHeyward; \"we are three, whilst you have consulted no one but yourself.\"\\n\\n\"Even so. The first point to be obtained is to know one\\'s own mind. Once\\nsure of that, and where women are concerned, it is not easy, the next\\nis, to act up to the decision. I have endeavored to do both, and here I\\nam.\"\\n\\n\"If you journey to the lake, you have mistaken your route,\" said\\nHeyward, haughtily; \"the highway thither is at least half a mile behind\\nyou.\"\\n\\n\"Even so,\" returned the stranger, nothing daunted by this cold\\nreception; \"I have tarried at \\'Edward\\' a week, and I should be dumb not\\nto have inquired the road I was to journey; and if dumb there would be\\nan end to my calling.\" After simpering in a small way, like one whose\\nmodesty prohibited a more open expression of his admiration of a\\nwitticism that was perfectly unintelligible to his hearers, he\\ncontinued: \"It is not prudent for any one of my profession to be too\\nfamiliar with those he is to instruct; for which reason I follow not the\\nline of the army; besides which, I conclude that a gentleman of your\\ncharacter has the best judgment in matters of wayfaring; I have\\ntherefore decided to join company, in order that the ride may be made\\nagreeable, and partake of social communion.\"\\n\\n\"A most arbitrary, if not a hasty decision!\" exclaimed Heyward,\\nundecided whether to give vent to his growing anger, or to laugh in the\\nother\\'s face. \"But you speak of instruction, and of a profession; are\\nyou an adjunct to the provincial corps, as a master of the noble science\\nof defence and offence; or, perhaps, you are one who draws lines and\\nangles, under the pretence of expounding the mathematics?\"\\n\\nThe stranger regarded his interrogator a moment, in wonder; and then,\\nlosing every mark of self-satisfaction in an expression of solemn\\nhumility, he answered:--\\n\\n\"Of offence, I hope there is none, to either party: of defence, I make\\nnone--by God\\'s good mercy, having committed no palpable sin since last\\nentreating his pardoning grace. I understand not your allusions about\\nlines and angles; and I leave expounding to those who have been called\\nand set apart for that holy office. I lay claim to no higher gift than a\\nsmall insight into the glorious art of petitioning and thanksgiving, as\\npractised in psalmody.\"\\n\\n\"The man is, most manifestly, a disciple of Apollo,\" cried the amused\\nAlice, \"and I take him under my own especial protection. Nay, throw\\naside that frown, Heyward, and in pity to my longing ears, suffer him to\\njourney in our train. Besides,\" she added, in a low and hurried voice,\\ncasting a glance at the distant Cora, who slowly followed the footsteps\\nof their silent but sullen guide, \"it may be a friend added to our\\nstrength, in time of need.\"\\n\\n\"Think you, Alice, that I would trust those I love by this secret path,\\ndid I imagine such need could happen?\"\\n\\n\"Nay, nay, I think not of it now; but this strange man amuses me; and if\\nhe \\'hath music in his soul,\\' let us not churlishly reject his company.\"\\nShe pointed persuasively along the path with her riding-whip, while\\ntheir eyes met in a look which the young man lingered a moment to\\nprolong; then yielding to her gentle influence, he clapped his spurs\\ninto his charger, and in a few bounds was again at the side of Cora.\\n\\n\"I am glad to encounter thee, friend,\" continued the maiden, waving her\\nhand to the stranger to proceed, as she urged her Narragansett to renew\\nits amble. \"Partial relatives have almost persuaded me that I am not\\nentirely worthless in a duet myself; and we may enliven our wayfaring by\\nindulging in our favorite pursuit. It might be of signal advantage to\\none, ignorant as I, to hear the opinions and experience of a master in\\nthe art.\"\\n\\n\"It is refreshing both to the spirits and to the body to indulge in\\npsalmody, in befitting seasons,\" returned the master of song,\\nunhesitatingly complying with her intimation to follow; \"and nothing\\nwould relieve the mind more than such a consoling communion. But four\\nparts are altogether necessary to the perfection of melody. You have all\\nthe manifestations of a soft and rich treble; I can, by especial aid,\\ncarry a full tenor to the highest letter; but we lack counter and bass!\\nYon officer of the king, who hesitated to admit me to his company, might\\nfill the latter, if one may judge from the intonations of his voice in\\ncommon dialogue.\"\\n\\n\"Judge not too rashly from hasty and deceptive appearances,\" said the\\nlady, smiling; \"though Major Heyward can assume such deep notes on\\noccasion, believe me, his natural tones are better fitted for a mellow\\ntenor than the bass you heard.\"\\n\\n\"Is he, then, much practised in the art of psalmody?\" demanded her\\nsimple companion.\\n\\nAlice felt disposed to laugh, though she succeeded in suppressing her\\nmerriment, ere she answered,--\\n\\n\"I apprehend that he is rather addicted to profane song. The chances of\\na soldier\\'s life are but little fitted for the encouragement of more\\nsober inclinations.\"\\n\\n\"Man\\'s voice is given to him, like his other talents, to be used, and\\nnot to be abused. None can say they have ever known me neglect my gifts!\\nI am thankful that, though my boyhood may be said to have been set\\napart, like the youth of the royal David, for the purposes of music, no\\nsyllable of rude verse has ever profaned my lips.\"\\n\\n\"You have, then, limited your efforts to sacred song?\"\\n\\n\"Even so. As the psalms of David exceed all other language, so does the\\npsalmody that has been fitted to them by the divines and sages of the\\nland, surpass all vain poetry. Happily, I may say that I utter nothing\\nbut the thoughts and the wishes of the King of Israel himself; for\\nthough the times may call for some slight changes, yet does this version\\nwhich we use in the colonies of New England, so much exceed all other\\nversions, that, by its richness, its exactness, and its spiritual\\nsimplicity, it approacheth, as near as may be, to the great work of the\\ninspired writer. I never abide in any place, sleeping or waking, without\\nan example of this gifted work. \\'Tis the six-and-twentieth edition,\\npromulgated at Boston, Anno Domini 1744; and is entitled, _The Psalms,\\nHymns, and Spiritual Songs of the Old and New Testaments; faithfully\\ntranslated into English Metre, for the Use, Edification, and Comfort of\\nthe Saints, in Public and Private, especially in New England_.\"\\n\\nDuring this eulogium on the rare production of his native poets, the\\nstranger had drawn the book from his pocket, and, fitting a pair of\\niron-rimmed spectacles to his nose, opened the volume with a care and\\nveneration suited to its sacred purposes. Then, without circumlocution\\nor apology, first pronouncing the word \"Standish,\" and placing the\\nunknown engine, already described, to his mouth, from which he drew a\\nhigh, shrill sound, that was followed by an octave below, from his own\\nvoice, he commenced singing the following words, in full, sweet, and\\nmelodious tones, that set the music, the poetry, and even the uneasy\\nmotion of his ill-trained beast at defiance:--\\n\\n  \"How good it is, O see,\\n    And how it pleaseth well,\\n  Together, e\\'en in unity,\\n    For brethren so to dwell.\\n  It\\'s like the choice ointment,\\n    From the head to the beard did go:\\n  Down Aaron\\'s beard, that downward went,\\n    His garment\\'s skirts unto.\"\\n\\nThe delivery of these skilful rhymes was accompanied, on the part of the\\nstranger, by a regular rise and fall of his right hand, which\\nterminated at the descent, by suffering the fingers to dwell a moment on\\nthe leaves of the little volume; and on the ascent, by such a flourish\\nof the member as none but the initiated may ever hope to imitate. It\\nwould seem that long practice had rendered this manual accompaniment\\nnecessary; for it did not cease until the preposition which the poet had\\nselected for the close of his verse, had been duly delivered like a word\\nof two syllables.\\n\\nSuch an innovation on the silence and retirement of the forest could not\\nfail to enlist the ears of those who journeyed at so short a distance in\\nadvance. The Indian muttered a few words in broken English to Heyward,\\nwho, in his turn, spoke to the stranger; at once interrupting, and, for\\nthe time, closing his musical efforts.\\n\\n\"Though we are not in danger, common prudence would teach us to journey\\nthrough this wilderness in as quiet a manner as possible. You will,\\nthen, pardon me, Alice, should I diminish your enjoyments, by requesting\\nthis gentleman to postpone his chant until a safer opportunity.\"\\n\\n\"You will diminish them, indeed,\" returned the arch girl, \"for never did\\nI hear a more unworthy conjunction of execution and language, than that\\nto which I have been listening; and I was far gone in a learned inquiry\\ninto the causes of such an unfitness between sound and sense, when you\\nbroke the charm of my musings by that bass of yours, Duncan!\"\\n\\n\"I know not what you call my bass,\" said Heyward, piqued at her remark,\\n\"but I know that your safety, and that of Cora, is far dearer to me than\\ncould be any orchestra of Handel\\'s music.\" He paused and turned his head\\nquickly towards a thicket, and then bent his eyes suspiciously on their\\nguide, who continued his steady pace, in undisturbed gravity. The young\\nman smiled to himself, for he believed he had mistaken some shining\\nberry of the woods for the glistening eyeballs of a prowling savage, and\\nhe rode forward, continuing the conversation which had been interrupted\\nby the passing thought.\\n\\nMajor Heyward was mistaken only in suffering his youthful and generous\\npride to suppress his active watchfulness. The cavalcade had not long\\npassed, before the branches of the bushes that formed the thicket were\\ncautiously moved asunder, and a human visage, as fiercely wild as savage\\nart and unbridled passions could make it, peered out on the retiring\\nfootsteps of the travellers. A gleam of exultation shot across the\\ndarkly painted lineaments of the inhabitant of the forest, as he traced\\nthe route of his intended victims, who rode unconsciously onward; the\\nlight and graceful forms of the females waving among the trees, in the\\ncurvatures of their path, followed at each bend by the manly figure of\\nHeyward, until, finally, the shapeless person of the singing-master was\\nconcealed behind the numberless trunks of trees, that rose, in dark\\nlines, in the intermediate space.\\n\\n\\n\\n', 'chapter_length': 6471.0, 'summary_name': 'Chapters 1-2', 'summary_url': 'https://web.archive.org/web/20201101053205/https://www.cliffsnotes.com/literature/l/the-last-of-the-mohicans/summary-and-analysis/chapters-12', 'summary_text': 'Before any characters appear, the time and geography are made clear. Though it is the last war that England and France waged for a country that neither would retain, the wilderness between the forces still has to be overcome first. Thus it is in 1757, in the New York area between the head waters of the Hudson River and Lake George to the north. Because only two years earlier General Braddock was disgracefully routed by a handful of French and Indians, the frontier is now exposed to real and imaginary savage disasters as well as to the horrors of warfare. Fear has replaced reason. Near dusk of a day in July, an Indian runner named Magua arrives at Fort Edward on the upper Hudson. He has come from Fort William Henry at the southern tip of Lake George with the news that the French General Montcalm is moving south with a very large army and that Munro, commander of Fort William Henry, is in urgent need of plentiful reinforcements from General Webb. Early the next morning, a limited detachment of fifteen hundred regulars and colonists departs as if swallowed by the forest. Shortly afterwards, Major Duncan Heyward and Alice and Cora Munro, guided by Magua on foot, take by horseback a secret route toward William Henry for the girls to join their father. Blonde Alice is doubtful about Magua, covered with war paint and showing a sullen fierceness; but dark-haired Cora is stoically common sense about him, even though Heyward mentions that their father had once had to deal rigidly with the Indian. As the small party pushes on, they are overtaken by David Gamut, a tall, ungainly psalmodist ridiculously dressed and carrying a pitch pipe while riding a mare followed by its young colt. He desires to join them, and after some banter between him and Alice, he pulls out the twenty-sixth edition of The Bay Psalm Book, sounds his pipe, and renders a song \"in full, sweet, and melodious tones.\" At a muttered comment from Magua, Heyward insists upon silence for safety. Then he glances about them and, satisfied that he has seen only shining berries, smiles to himself as they move on. But he is wrong. The branches move and a man peers exultingly after them as they disappear among the dark lines of trees.', 'summary_analysis': \"These two chapters introduce the reader to the historical and natural settings and are indicative of the extent to which this book, as a historical novel, relates its fictional characters to real history. Only here at the beginning and later at mid-novel will the action coincide in detail with actual events, though the historic war is always somewhere in the near distance. These chapters also present four of the main fictional characters and one secondary one, all of whom will merit our concern henceforth. Major Heyward is the gallant romantic hero, but unlike most sentimental romances where for each hero there is one heroine, here there are two, Alice and Cora, blonde and brunette. And it is immediately apparent that the old tradition of weak-blonde-strong-brunette contrast is at work, stereotyping the fair Alice and dark Cora. These three are rather predictable types which both simplify and stultify the writer's efforts with them. Magua's stealthy eyes and abrupt, furtive actions mark him as a potential villain, while the exaggerated presentation of the simple, single-minded Gamut paints him as the comic and perhaps pitiable adult innocent. At this point, both are something less than realistic and fully vitalized characters, but in comparison to the other three they seem to breathe real air. The stature of originality and verisimilitude that they do show is doubtless due to the fact that they are native characters. One may note, for instance, that Heyward's comment about Munro's once dealing rigidly with Magua not only lends suspense to the situation and points to the theme of revenge but also suggests some depth of motivation for the Indian. What we call plot -- the complications of a situation and the subsequent events and actions that further entangle things before they are finally resolved in some fashion -- starts an early ferment in terms of danger and suspense. Four likable and somewhat innocent characters strike into the unknown forest wilderness with a doubtful guide. It is a time of urgency, and movement is swift. Cooper hardly gives the reader time to question seriously why Munro's daughters would push forward their visit at this worst of times and would feel themselves safer almost alone on a dim path in savage-infested territory than in the company of fifteen hundred trained fighting men. This represents a lack in character motivation, but Cooper knows that he must get his people into jeopardy, and he at least partly succeeds in hiding this lack under suspenseful action and a sense of urgency. But in spite of the pace, Cooper also manages a good instance of dramatic irony, a fictional presentation in which the reader is allowed to see or deduce predicaments unknown or only partly known by the characters. It is thus that the first part of the pattern of action -- that of pursuit -- has begun.\", 'summary_length': 388.0, 'analysis_length': 473.0}\n"
     ]
    },
    {
     "name": "stderr",
     "output_type": "stream",
     "text": [
      "\n"
     ]
    }
   ],
   "source": [
    "from datasets import load_dataset\n",
    "\n",
    "# Load the dataset\n",
    "dataset = load_dataset(\"kmfoda/booksum\")\n",
    "\n",
    "# Access different splits\n",
    "train_dataset = dataset['train']\n",
    "validation_dataset = dataset['validation']\n",
    "test_dataset = dataset['test']\n",
    "\n",
    "# Print some sample data\n",
    "print(train_dataset[0])\n"
   ]
  },
  {
   "cell_type": "code",
   "execution_count": 7,
   "metadata": {},
   "outputs": [
    {
     "data": {
      "text/plain": [
       "(9600, 1484, 1431)"
      ]
     },
     "execution_count": 7,
     "metadata": {},
     "output_type": "execute_result"
    }
   ],
   "source": [
    "len(train_dataset), len(validation_dataset), len(test_dataset)"
   ]
  },
  {
   "cell_type": "code",
   "execution_count": 8,
   "metadata": {},
   "outputs": [
    {
     "data": {
      "text/plain": [
       "Dataset({\n",
       "    features: ['bid', 'is_aggregate', 'source', 'chapter_path', 'summary_path', 'book_id', 'summary_id', 'content', 'summary', 'chapter', 'chapter_length', 'summary_name', 'summary_url', 'summary_text', 'summary_analysis', 'summary_length', 'analysis_length'],\n",
       "    num_rows: 9600\n",
       "})"
      ]
     },
     "execution_count": 8,
     "metadata": {},
     "output_type": "execute_result"
    }
   ],
   "source": [
    "train_dataset"
   ]
  },
  {
   "cell_type": "code",
   "execution_count": 4,
   "metadata": {},
   "outputs": [
    {
     "data": {
      "text/html": [
       "<div>\n",
       "<style scoped>\n",
       "    .dataframe tbody tr th:only-of-type {\n",
       "        vertical-align: middle;\n",
       "    }\n",
       "\n",
       "    .dataframe tbody tr th {\n",
       "        vertical-align: top;\n",
       "    }\n",
       "\n",
       "    .dataframe thead th {\n",
       "        text-align: right;\n",
       "    }\n",
       "</style>\n",
       "<table border=\"1\" class=\"dataframe\">\n",
       "  <thead>\n",
       "    <tr style=\"text-align: right;\">\n",
       "      <th></th>\n",
       "      <th>bid</th>\n",
       "      <th>is_aggregate</th>\n",
       "      <th>source</th>\n",
       "      <th>chapter_path</th>\n",
       "      <th>summary_path</th>\n",
       "      <th>book_id</th>\n",
       "      <th>summary_id</th>\n",
       "      <th>content</th>\n",
       "      <th>summary</th>\n",
       "      <th>chapter</th>\n",
       "      <th>chapter_length</th>\n",
       "      <th>summary_name</th>\n",
       "      <th>summary_url</th>\n",
       "      <th>summary_text</th>\n",
       "      <th>summary_analysis</th>\n",
       "      <th>summary_length</th>\n",
       "      <th>analysis_length</th>\n",
       "    </tr>\n",
       "  </thead>\n",
       "  <tbody>\n",
       "    <tr>\n",
       "      <th>0</th>\n",
       "      <td>27681</td>\n",
       "      <td>True</td>\n",
       "      <td>cliffnotes</td>\n",
       "      <td>all_chapterized_books/27681-chapters/chapters_...</td>\n",
       "      <td>finished_summaries/cliffnotes/The Last of the ...</td>\n",
       "      <td>The Last of the Mohicans.chapters 1-2</td>\n",
       "      <td>chapters 1-2</td>\n",
       "      <td>None</td>\n",
       "      <td>{\"name\": \"Chapters 1-2\", \"url\": \"https://web.a...</td>\n",
       "      <td>\\n  \"Mine ear is open, and my heart prepared:\\...</td>\n",
       "      <td>6471.0</td>\n",
       "      <td>Chapters 1-2</td>\n",
       "      <td>https://web.archive.org/web/20201101053205/htt...</td>\n",
       "      <td>Before any characters appear, the time and geo...</td>\n",
       "      <td>These two chapters introduce the reader to the...</td>\n",
       "      <td>388.0</td>\n",
       "      <td>473.0</td>\n",
       "    </tr>\n",
       "    <tr>\n",
       "      <th>1</th>\n",
       "      <td>27681</td>\n",
       "      <td>False</td>\n",
       "      <td>cliffnotes</td>\n",
       "      <td>all_chapterized_books/27681-chapters/03.txt</td>\n",
       "      <td>finished_summaries/cliffnotes/The Last of the ...</td>\n",
       "      <td>The Last of the Mohicans.chapter 3</td>\n",
       "      <td>chapter 3</td>\n",
       "      <td>None</td>\n",
       "      <td>{\"name\": \"Chapter 3\", \"url\": \"https://web.arch...</td>\n",
       "      <td>\\n  \"Before these fields were shorn and tilled...</td>\n",
       "      <td>3132.0</td>\n",
       "      <td>Chapter 3</td>\n",
       "      <td>https://web.archive.org/web/20201101053205/htt...</td>\n",
       "      <td>In another part of the forest by the river a f...</td>\n",
       "      <td>This chapter introduces the other three main a...</td>\n",
       "      <td>198.0</td>\n",
       "      <td>149.0</td>\n",
       "    </tr>\n",
       "    <tr>\n",
       "      <th>2</th>\n",
       "      <td>27681</td>\n",
       "      <td>False</td>\n",
       "      <td>cliffnotes</td>\n",
       "      <td>all_chapterized_books/27681-chapters/04.txt</td>\n",
       "      <td>finished_summaries/cliffnotes/The Last of the ...</td>\n",
       "      <td>The Last of the Mohicans.chapter 4</td>\n",
       "      <td>chapter 4</td>\n",
       "      <td>None</td>\n",
       "      <td>{\"name\": \"Chapter 4\", \"url\": \"https://web.arch...</td>\n",
       "      <td>\\n  \"Well, go thy way: thou shalt not from thi...</td>\n",
       "      <td>3075.0</td>\n",
       "      <td>Chapter 4</td>\n",
       "      <td>https://web.archive.org/web/20201101053205/htt...</td>\n",
       "      <td>When the mounted party from Fort Howard approa...</td>\n",
       "      <td>Since this chapter is mostly one of surface ac...</td>\n",
       "      <td>319.0</td>\n",
       "      <td>75.0</td>\n",
       "    </tr>\n",
       "    <tr>\n",
       "      <th>3</th>\n",
       "      <td>27681</td>\n",
       "      <td>False</td>\n",
       "      <td>cliffnotes</td>\n",
       "      <td>all_chapterized_books/27681-chapters/05.txt</td>\n",
       "      <td>finished_summaries/cliffnotes/The Last of the ...</td>\n",
       "      <td>The Last of the Mohicans.chapter 5</td>\n",
       "      <td>chapter 5</td>\n",
       "      <td>None</td>\n",
       "      <td>{\"name\": \"Chapter 5\", \"url\": \"https://web.arch...</td>\n",
       "      <td>\\n                      \"In such a night\\n  Di...</td>\n",
       "      <td>3268.0</td>\n",
       "      <td>Chapter 5</td>\n",
       "      <td>https://web.archive.org/web/20201101053205/htt...</td>\n",
       "      <td>The pursuit of Magua is unsuccessful, but Hawk...</td>\n",
       "      <td>Here the reader encounters the first bloodshed...</td>\n",
       "      <td>329.0</td>\n",
       "      <td>156.0</td>\n",
       "    </tr>\n",
       "    <tr>\n",
       "      <th>4</th>\n",
       "      <td>27681</td>\n",
       "      <td>False</td>\n",
       "      <td>cliffnotes</td>\n",
       "      <td>all_chapterized_books/27681-chapters/06.txt</td>\n",
       "      <td>finished_summaries/cliffnotes/The Last of the ...</td>\n",
       "      <td>The Last of the Mohicans.chapter 6</td>\n",
       "      <td>chapter 6</td>\n",
       "      <td>None</td>\n",
       "      <td>{\"name\": \"Chapter 6\", \"url\": \"https://web.arch...</td>\n",
       "      <td>\\n  \"Those strains that once did sweet in Zion...</td>\n",
       "      <td>3873.0</td>\n",
       "      <td>Chapter 6</td>\n",
       "      <td>https://web.archive.org/web/20201101053205/htt...</td>\n",
       "      <td>Heyward and the girls are uneasy and Gamut is ...</td>\n",
       "      <td>This chapter shows Cooper in his most inventiv...</td>\n",
       "      <td>321.0</td>\n",
       "      <td>128.0</td>\n",
       "    </tr>\n",
       "  </tbody>\n",
       "</table>\n",
       "</div>"
      ],
      "text/plain": [
       "     bid  is_aggregate      source  \\\n",
       "0  27681          True  cliffnotes   \n",
       "1  27681         False  cliffnotes   \n",
       "2  27681         False  cliffnotes   \n",
       "3  27681         False  cliffnotes   \n",
       "4  27681         False  cliffnotes   \n",
       "\n",
       "                                        chapter_path  \\\n",
       "0  all_chapterized_books/27681-chapters/chapters_...   \n",
       "1        all_chapterized_books/27681-chapters/03.txt   \n",
       "2        all_chapterized_books/27681-chapters/04.txt   \n",
       "3        all_chapterized_books/27681-chapters/05.txt   \n",
       "4        all_chapterized_books/27681-chapters/06.txt   \n",
       "\n",
       "                                        summary_path  \\\n",
       "0  finished_summaries/cliffnotes/The Last of the ...   \n",
       "1  finished_summaries/cliffnotes/The Last of the ...   \n",
       "2  finished_summaries/cliffnotes/The Last of the ...   \n",
       "3  finished_summaries/cliffnotes/The Last of the ...   \n",
       "4  finished_summaries/cliffnotes/The Last of the ...   \n",
       "\n",
       "                                 book_id    summary_id content  \\\n",
       "0  The Last of the Mohicans.chapters 1-2  chapters 1-2    None   \n",
       "1     The Last of the Mohicans.chapter 3     chapter 3    None   \n",
       "2     The Last of the Mohicans.chapter 4     chapter 4    None   \n",
       "3     The Last of the Mohicans.chapter 5     chapter 5    None   \n",
       "4     The Last of the Mohicans.chapter 6     chapter 6    None   \n",
       "\n",
       "                                             summary  \\\n",
       "0  {\"name\": \"Chapters 1-2\", \"url\": \"https://web.a...   \n",
       "1  {\"name\": \"Chapter 3\", \"url\": \"https://web.arch...   \n",
       "2  {\"name\": \"Chapter 4\", \"url\": \"https://web.arch...   \n",
       "3  {\"name\": \"Chapter 5\", \"url\": \"https://web.arch...   \n",
       "4  {\"name\": \"Chapter 6\", \"url\": \"https://web.arch...   \n",
       "\n",
       "                                             chapter  chapter_length  \\\n",
       "0  \\n  \"Mine ear is open, and my heart prepared:\\...          6471.0   \n",
       "1  \\n  \"Before these fields were shorn and tilled...          3132.0   \n",
       "2  \\n  \"Well, go thy way: thou shalt not from thi...          3075.0   \n",
       "3  \\n                      \"In such a night\\n  Di...          3268.0   \n",
       "4  \\n  \"Those strains that once did sweet in Zion...          3873.0   \n",
       "\n",
       "   summary_name                                        summary_url  \\\n",
       "0  Chapters 1-2  https://web.archive.org/web/20201101053205/htt...   \n",
       "1     Chapter 3  https://web.archive.org/web/20201101053205/htt...   \n",
       "2     Chapter 4  https://web.archive.org/web/20201101053205/htt...   \n",
       "3     Chapter 5  https://web.archive.org/web/20201101053205/htt...   \n",
       "4     Chapter 6  https://web.archive.org/web/20201101053205/htt...   \n",
       "\n",
       "                                        summary_text  \\\n",
       "0  Before any characters appear, the time and geo...   \n",
       "1  In another part of the forest by the river a f...   \n",
       "2  When the mounted party from Fort Howard approa...   \n",
       "3  The pursuit of Magua is unsuccessful, but Hawk...   \n",
       "4  Heyward and the girls are uneasy and Gamut is ...   \n",
       "\n",
       "                                    summary_analysis  summary_length  \\\n",
       "0  These two chapters introduce the reader to the...           388.0   \n",
       "1  This chapter introduces the other three main a...           198.0   \n",
       "2  Since this chapter is mostly one of surface ac...           319.0   \n",
       "3  Here the reader encounters the first bloodshed...           329.0   \n",
       "4  This chapter shows Cooper in his most inventiv...           321.0   \n",
       "\n",
       "   analysis_length  \n",
       "0            473.0  \n",
       "1            149.0  \n",
       "2             75.0  \n",
       "3            156.0  \n",
       "4            128.0  "
      ]
     },
     "execution_count": 4,
     "metadata": {},
     "output_type": "execute_result"
    }
   ],
   "source": [
    "import pandas as pd\n",
    "train_df = pd.DataFrame(train_dataset)\n",
    "train_df.head()"
   ]
  },
  {
   "cell_type": "code",
   "execution_count": 21,
   "metadata": {},
   "outputs": [
    {
     "name": "stdout",
     "output_type": "stream",
     "text": [
      "409\n",
      "Hetty and Dinah sleep in two rooms adjoining each other which have no blinds to shut out the moonlight. Hetty is quite upset with her mirror for having so many spots on it; to get a good view of herself she must press her knees against some uncomfortable brass handles. She lights two candles, takes out a smaller, hand-held mirror, and lets down her hair to brush it. She knows that she is prettier than the other young ladies around, especially the ones who have visited the Chase. She puts large glass earrings on and throws a shawl around herself, but she feels vexed because her hands are coarse with work. She imagines that the Captain must want to marry her, because why else would he kiss her in that way. The doctor's assistant married the doctor's niece in secret, and then when everyone found out about it there was no use in being angry. Thus, she imagines that her own marriage must happen in the same way. She is so excited that she gets up in a hurry, and the small mirror crashes to the floor. Eliot observes that her figure is quite lovable in its innocence, and even though she is not wise, it is plain to see that she will love her children very much because she is almost a child herself. Adam feels this way about her, as does the Captain. Eliot notes that nature is tricky in this way, because it makes us believe that a girl with beautiful, long eyelashes is good, which she may or may not be. Eliot compares Hetty to a rootless plant that would be quite happy to be resettled into a new life and to forget the old one completely. She does not care much for her younger cousins as it is, and she takes no pleasure from tending to the hens, except that she can buy ribbons for herself out of the proceeds. The housemaid, who is quite ugly, possesses a much more maternal nature than Hetty. Mrs. Poyser has noted this cold-heartedness in the beautiful Hetty and feels troubled by it. Hetty is afraid of her aunt, so she always bolts the door when she struts around in this fashion, which is just as well, because someone now taps on her door. Hetty blows out the candles and throws off the scarf. Dinah knocks again, because she heard something fall in Hetty's room, began thinking about the self-absorption of the girl, and decided that Hetty was in need of guidance. She tries to tell Hetty that if she is ever in need, she can find her cousin Dinah available, but Hetty misunderstands her. She thinks that Dinah is predicting that something bad will happen to her soon, and she begins to cry. Dinah mistakes her tears for a religious reaction and, pleased, she goes back to her room to pray\n",
      "\n",
      "Although the narrator's opinions are not so evident in Chapter Nine, Eliot implicitly endorses some of the precepts of Methodism by showing Hetty's vanity in a negative light.  All that she desires are material goods, and she prefers the Captain to Adam not because he is smarter or better-looking, but because he can provide her with these goods.  This preference fits with her seeming vapidity in earlier chapters.  The reader has not yet seen her interact with Adam, but it is becoming increasingly hard to believe that she is a good match for him. This chapter also connects the visual sense with attraction in a way that was common in the Victorian period.  Sight was considered more of a masculine trait, while touch and smell were considered more feminine.  This idea might help explain the vicar's logic in recommending that the Captain avoid looking at the object of his affections. In Chapter Ten, it is perhaps even more remarkable that Dinah is able to give spiritual guidance to one old lady in her own home than to preach to an entire village, because she now is in a personal setting that can hardly benefit from the stamp of authenticity given by an established audience.  It is, therefore, a testament to her character that she is able to gain the trust of the old lady so quickly.  This point is especially striking given Lisbeth's immediate mistrust of anyone who is Methodist. Adam's dream uses the literary device of foreshadowing to indicate a conflict that he believes to be beginning in his life.  His dream superimposes the image of Hetty onto his everyday affairs, indicating that he would like to marry her.  Yet, she always is quickly followed in his dream by the image of his mother, who seems to disapprove of her.  This potential conflict is confirmed in his waking life, when his mother does indeed bemoan the idea that he might get married. Chapter Eleven foreshadows a number of possible avenues that the novel could follow.  Dinah takes on the role of helping Lisbeth quite easily, making the porridge and cleaning the house to her satisfaction.  This is in contradiction to the statement that Lisbeth has made on a number of occasions that her happiness and usefulness would be over if one of the boys brought another woman into the house by marrying. Eliot foreshadows the fact that Dinah could make a peaceful and harmonious addition to the Bede family, but this point raises the question of which Bede brother she might marry.  Until this point, a reader could have assumed that Seth and Dinah are the right match because of their shared religion.  But Adam seems to affect Dinah in a way that Seth cannot, and he expresses his interest in her, although the narrator claims that beholding her is like looking at moonlight after dreaming about sunlight. Chapter Twelve gives an unusual amount of depth to the usual tale of the squire seducing the milkmaid.  Normally, the squire is careless if not evil, and he normally is aware of the power of his position over the milkmaid and is willing to take advantage of it.  In this chapter, however, the fundamentally \"nice\" young man struggles with his conscience, aware of the fact that he could ruin Hetty's reputation or make her miserable. Still, his choice of reading while he waits for Hetty on the path is a subtle hint that his resolve to remain virtuous may not win out.  Zeluco  is a novel by Dr. John Moore about a rich Italian seducer.  Despite his aspiration to have sound morals concerning Hetty, it is more than probable that the Captain will give in to temptation. In Chapter Thirteen, the Captain has a superstition regarding the fault of his actions--that the fault rests on the attractive grove of woods, rather than on himself.  His idea is consistent with that of a spoiled aristocrat in that he looks to place responsibility on others before himself.  Yet, superstition is a characteristic that Eliot has specifically identified with the peasantry .  In any case, the Captain's lack of control over his actions should be cause for serious concern to Hetty, who is too wrapped up in her dreams of luxury to notice that she could be ruining her reputation. Eliot's main literary device for describing human nature is the extended metaphor.  In Chapter Fourteen, she does not merely write that Hetty is much less intelligent than, or has a hard time comprehending her cousin Hetty, but she figuratively compares them to two different types of birds.  \"Hetty looked at  in much the same way as one might imagine a little perching bird that could only flutter from bough to bough, to look at the swoop of the swallow, or the mounting of the lark.\"  The purpose of this extended metaphor is not only to clarify the difference between the two women, but also to attach their relationship to the descriptions of the British countryside that often serve as preludes to the action in Adam Bede. The detail at the end of the chapter about Totty's preference for Dinah over Hetty once again shows the superiority of the slightly less traditionally attractive niece.  The fact that Hetty does not feel offended by this preference shows her insensitivity. It also shows the extent to which she is preoccupied with her memories of the Captain. In Chapter Fifteen, Eliot ironically describes Hetty's discomfort in using her old looking glass, writing that \"devout worshippers never allow inconveniences to prevent them from performing their religious rites, and Hetty this evening was more bent on her peculiar form of worship than usual.\"  The idea of the female toilette as a pagan, pseudo-religious rite is not unique to Eliot. She perhaps borrowed it from Alexander Pope's mock-epic poem \"The Rape of the Lock.\" Pope's poem describes the assault on a woman's lock of hair as tantamount to a rape, and the poem criticizes as almost irreligious the heroine Belinda's self-absorption. The dichotomy separating Dinah and Hetty into two opposite poles is reinforced in this chapter.  When Dinah enters into Hetty's room, the two are compared as opposites: Hetty has a rosy face, while Dinah's is pale; Hetty wears showy glass earrings and green stays, while Dinah wears a simple white nightdress.  The difference between the two girls, however, is heightened to a misunderstanding at the end of this chapter. In Chapter Sixteen, the Captain has two strong male role models that could keep him on the straight and narrow path in life, but he is impeded from telling either man about Hetty.  Adam, on the one hand, is much beloved by the Captain, but the Captain rightly judges that he has iron resolution, so it would be useless for him to seek advice about how to control his own resolution.  In addition he knows that, as a young man, Adam may be a rival in the case of Hetty. Nevertheless, there should be no impediment to his telling the vicar about his predicament.  Their relationship is balanced by the fact that the vicar behaves paternally towards him, while acknowledging that he is at the mercy of the younger man because he is richer.  The Captain is impeded from telling the vicar about Hetty because, since he has mentioned her on a previous occasion, he is worried that the vicar will think that he is more in love with Hetty than he actually is.  Also, he wants the vicar to think well of him, and he seems worried that the vicar might think less of him if he knows about the attraction to the rather silly Hetty.\n"
     ]
    }
   ],
   "source": [
    "# read a random summary_text and summary_analysis\n",
    "\n",
    "import random\n",
    "random_index = random.randint(0, len(train_df)-1)\n",
    "print(random_index)\n",
    "sum_text = train_df['summary_text'][random_index]\n",
    "print(sum_text)\n",
    "print()\n",
    "sum_analysis = train_df['summary_analysis'][random_index]\n",
    "print(sum_analysis)"
   ]
  },
  {
   "cell_type": "code",
   "execution_count": 23,
   "metadata": {},
   "outputs": [
    {
     "name": "stdout",
     "output_type": "stream",
     "text": [
      "torch.Size([1, 597])\n",
      "torch.Size([1, 1596])\n"
     ]
    }
   ],
   "source": [
    "# tokenize the summary_text and summary_analysis and print the length of the tokens if they are not none\n",
    "\n",
    "sum_text_tokens = tokenizer(sum_text, return_tensors='pt')['input_ids']\n",
    "print(sum_text_tokens.shape)\n",
    "\n",
    "sum_analysis_tokens = tokenizer(sum_analysis, return_tensors='pt')['input_ids']\n",
    "print(sum_analysis_tokens.shape)"
   ]
  },
  {
   "cell_type": "code",
   "execution_count": null,
   "metadata": {},
   "outputs": [],
   "source": []
  },
  {
   "cell_type": "code",
   "execution_count": 7,
   "metadata": {},
   "outputs": [
    {
     "data": {
      "text/plain": [
       "'At five o\\'clock, school is dismissed for tea. The spell she has been under dissolves and Jane collapses on the floor in grief. She feels all of her successes at Lowood have now been destroyed by Brocklehurst\\'s unfair accusations. Jane wonders how Helen can be friends with a girl that the world has branded a liar. Helen tells Jane she is exaggerating: Only eighty people of the hundreds of millions in the world heard Brocklehurst, and most of those people probably pity, rather than dislike Jane. Miss Temple also befriends Jane, allowing her to present her side of the story. Miss Temple promises to write to Mr. Lloyd for verification of Jane\\'s statements; if his reply agrees with Jane\\'s, she will be publicly cleared. For Miss Temple, though, Jane is already clear. Jane and Helen share a sumptuous tea with their teacher; indeed, Jane declares the seed-cake Miss Temple offers is like \"ambrosia.\" Miss Temple then turns her attention to Helen, and the two begin a conversation about French and Latin authors. Jane is amazed by the extent of Helen\\'s knowledge. Mr. Lloyd replies to Miss Temple\\'s letter, corroborating Jane\\'s statements, so Miss Temple assembles the entire school and vindicates Jane from all of the charges Brocklehurst had leveled against her. With this load off her mind, Jane returns diligently to work, quickly rising to a higher class. Soon she is learning French and drawing, and happier at Lowood than she ever was at Gateshead.'"
      ]
     },
     "execution_count": 7,
     "metadata": {},
     "output_type": "execute_result"
    }
   ],
   "source": [
    "import random\n",
    "random_index = random.randint(0, len(train_df)-1)\n",
    "summary = train_df['summary_text'][random_index]\n",
    "summary"
   ]
  },
  {
   "cell_type": "code",
   "execution_count": 8,
   "metadata": {},
   "outputs": [
    {
     "name": "stdout",
     "output_type": "stream",
     "text": [
      "At five o'clock, school is dismissed for tea. The spell she has been under dissolves and Jane collapses on the floor in grief. She feels all of her successes at Lowood have now been destroyed by Brocklehurst's unfair accusations. Jane wonders how Helen can be friends with a girl that the world has branded a liar. Helen tells Jane she is exaggerating: Only eighty people of the hundreds of millions in the world heard Brocklehurst, and most of those people probably pity, rather than dislike Jane. Miss Temple also befriends Jane, allowing her to present her side of the story. Miss Temple promises to write to Mr. Lloyd for verification of Jane's statements; if his reply agrees with Jane's, she will be publicly cleared. For Miss Temple, though, Jane is already clear. Jane and Helen share a sumptuous tea with their teacher; indeed, Jane declares the seed-cake Miss Temple offers is like \"ambrosia.\" Miss Temple then turns her attention to Helen, and the two begin a conversation about French and Latin authors. Jane is amazed by the extent of Helen's knowledge. Mr. Lloyd replies to Miss Temple's letter, corroborating Jane's statements, so Miss Temple assembles the entire school and vindicates Jane from all of the charges Brocklehurst had leveled against her. With this load off her mind, Jane returns diligently to work, quickly rising to a higher class. Soon she is learning French and drawing, and happier at Lowood than she ever was at Gateshead.\n"
     ]
    }
   ],
   "source": [
    "print(summary)"
   ]
  },
  {
   "cell_type": "code",
   "execution_count": 10,
   "metadata": {},
   "outputs": [
    {
     "ename": "ValueError",
     "evalue": "not enough values to unpack (expected 2, got 1)",
     "output_type": "error",
     "traceback": [
      "\u001b[0;31m---------------------------------------------------------------------------\u001b[0m",
      "\u001b[0;31mValueError\u001b[0m                                Traceback (most recent call last)",
      "\u001b[1;32m/data1/sanps/diffusion_transformer/prototype.ipynb Cell 13\u001b[0m line \u001b[0;36m1\n\u001b[1;32m     <a href='vscode-notebook-cell://ssh-remote%2Bdeepb.ucsd.edu/data1/sanps/diffusion_transformer/prototype.ipynb#X13sdnNjb2RlLXJlbW90ZQ%3D%3D?line=14'>15</a>\u001b[0m attention_mask \u001b[39m=\u001b[39m torch\u001b[39m.\u001b[39mones(\u001b[39mlen\u001b[39m(input_ids), dtype\u001b[39m=\u001b[39mtorch\u001b[39m.\u001b[39mlong, device\u001b[39m=\u001b[39mdevice)\n\u001b[1;32m     <a href='vscode-notebook-cell://ssh-remote%2Bdeepb.ucsd.edu/data1/sanps/diffusion_transformer/prototype.ipynb#X13sdnNjb2RlLXJlbW90ZQ%3D%3D?line=16'>17</a>\u001b[0m \u001b[39m# Generate summary ids\u001b[39;00m\n\u001b[0;32m---> <a href='vscode-notebook-cell://ssh-remote%2Bdeepb.ucsd.edu/data1/sanps/diffusion_transformer/prototype.ipynb#X13sdnNjb2RlLXJlbW90ZQ%3D%3D?line=17'>18</a>\u001b[0m summary_ids \u001b[39m=\u001b[39m model\u001b[39m.\u001b[39;49mgenerate(input_ids, attention_mask\u001b[39m=\u001b[39;49mattention_mask, max_length\u001b[39m=\u001b[39;49m\u001b[39m1024\u001b[39;49m, num_beams\u001b[39m=\u001b[39;49m\u001b[39m1\u001b[39;49m, temperature\u001b[39m=\u001b[39;49m\u001b[39m1.5\u001b[39;49m)\n\u001b[1;32m     <a href='vscode-notebook-cell://ssh-remote%2Bdeepb.ucsd.edu/data1/sanps/diffusion_transformer/prototype.ipynb#X13sdnNjb2RlLXJlbW90ZQ%3D%3D?line=19'>20</a>\u001b[0m \u001b[39m# Decode and print the summary\u001b[39;00m\n\u001b[1;32m     <a href='vscode-notebook-cell://ssh-remote%2Bdeepb.ucsd.edu/data1/sanps/diffusion_transformer/prototype.ipynb#X13sdnNjb2RlLXJlbW90ZQ%3D%3D?line=20'>21</a>\u001b[0m summary \u001b[39m=\u001b[39m tokenizer\u001b[39m.\u001b[39mdecode(summary_ids[\u001b[39m0\u001b[39m], skip_special_tokens\u001b[39m=\u001b[39m\u001b[39mTrue\u001b[39;00m)\n",
      "File \u001b[0;32m~/miniconda3/envs/llama2/lib/python3.10/site-packages/torch/utils/_contextlib.py:115\u001b[0m, in \u001b[0;36mcontext_decorator.<locals>.decorate_context\u001b[0;34m(*args, **kwargs)\u001b[0m\n\u001b[1;32m    112\u001b[0m \u001b[39m@functools\u001b[39m\u001b[39m.\u001b[39mwraps(func)\n\u001b[1;32m    113\u001b[0m \u001b[39mdef\u001b[39;00m \u001b[39mdecorate_context\u001b[39m(\u001b[39m*\u001b[39margs, \u001b[39m*\u001b[39m\u001b[39m*\u001b[39mkwargs):\n\u001b[1;32m    114\u001b[0m     \u001b[39mwith\u001b[39;00m ctx_factory():\n\u001b[0;32m--> 115\u001b[0m         \u001b[39mreturn\u001b[39;00m func(\u001b[39m*\u001b[39;49margs, \u001b[39m*\u001b[39;49m\u001b[39m*\u001b[39;49mkwargs)\n",
      "File \u001b[0;32m~/miniconda3/envs/llama2/lib/python3.10/site-packages/transformers/generation/utils.py:1492\u001b[0m, in \u001b[0;36mGenerationMixin.generate\u001b[0;34m(self, inputs, generation_config, logits_processor, stopping_criteria, prefix_allowed_tokens_fn, synced_gpus, assistant_model, streamer, negative_prompt_ids, negative_prompt_attention_mask, **kwargs)\u001b[0m\n\u001b[1;32m   1484\u001b[0m         logger\u001b[39m.\u001b[39mwarning(\n\u001b[1;32m   1485\u001b[0m             \u001b[39m\"\u001b[39m\u001b[39mA decoder-only architecture is being used, but right-padding was detected! For correct \u001b[39m\u001b[39m\"\u001b[39m\n\u001b[1;32m   1486\u001b[0m             \u001b[39m\"\u001b[39m\u001b[39mgeneration results, please set `padding_side=\u001b[39m\u001b[39m'\u001b[39m\u001b[39mleft\u001b[39m\u001b[39m'\u001b[39m\u001b[39m` when initializing the tokenizer.\u001b[39m\u001b[39m\"\u001b[39m\n\u001b[1;32m   1487\u001b[0m         )\n\u001b[1;32m   1489\u001b[0m \u001b[39mif\u001b[39;00m \u001b[39mself\u001b[39m\u001b[39m.\u001b[39mconfig\u001b[39m.\u001b[39mis_encoder_decoder \u001b[39mand\u001b[39;00m \u001b[39m\"\u001b[39m\u001b[39mencoder_outputs\u001b[39m\u001b[39m\"\u001b[39m \u001b[39mnot\u001b[39;00m \u001b[39min\u001b[39;00m model_kwargs:\n\u001b[1;32m   1490\u001b[0m     \u001b[39m# if model is encoder decoder encoder_outputs are created\u001b[39;00m\n\u001b[1;32m   1491\u001b[0m     \u001b[39m# and added to `model_kwargs`\u001b[39;00m\n\u001b[0;32m-> 1492\u001b[0m     model_kwargs \u001b[39m=\u001b[39m \u001b[39mself\u001b[39;49m\u001b[39m.\u001b[39;49m_prepare_encoder_decoder_kwargs_for_generation(\n\u001b[1;32m   1493\u001b[0m         inputs_tensor, model_kwargs, model_input_name\n\u001b[1;32m   1494\u001b[0m     )\n\u001b[1;32m   1496\u001b[0m \u001b[39m# 5. Prepare `input_ids` which will be used for auto-regressive generation\u001b[39;00m\n\u001b[1;32m   1497\u001b[0m \u001b[39mif\u001b[39;00m \u001b[39mself\u001b[39m\u001b[39m.\u001b[39mconfig\u001b[39m.\u001b[39mis_encoder_decoder:\n",
      "File \u001b[0;32m~/miniconda3/envs/llama2/lib/python3.10/site-packages/transformers/generation/utils.py:661\u001b[0m, in \u001b[0;36mGenerationMixin._prepare_encoder_decoder_kwargs_for_generation\u001b[0;34m(self, inputs_tensor, model_kwargs, model_input_name)\u001b[0m\n\u001b[1;32m    659\u001b[0m encoder_kwargs[\u001b[39m\"\u001b[39m\u001b[39mreturn_dict\u001b[39m\u001b[39m\"\u001b[39m] \u001b[39m=\u001b[39m \u001b[39mTrue\u001b[39;00m\n\u001b[1;32m    660\u001b[0m encoder_kwargs[model_input_name] \u001b[39m=\u001b[39m inputs_tensor\n\u001b[0;32m--> 661\u001b[0m model_kwargs[\u001b[39m\"\u001b[39m\u001b[39mencoder_outputs\u001b[39m\u001b[39m\"\u001b[39m]: ModelOutput \u001b[39m=\u001b[39m encoder(\u001b[39m*\u001b[39;49m\u001b[39m*\u001b[39;49mencoder_kwargs)\n\u001b[1;32m    663\u001b[0m \u001b[39mreturn\u001b[39;00m model_kwargs\n",
      "File \u001b[0;32m~/miniconda3/envs/llama2/lib/python3.10/site-packages/torch/nn/modules/module.py:1501\u001b[0m, in \u001b[0;36mModule._call_impl\u001b[0;34m(self, *args, **kwargs)\u001b[0m\n\u001b[1;32m   1496\u001b[0m \u001b[39m# If we don't have any hooks, we want to skip the rest of the logic in\u001b[39;00m\n\u001b[1;32m   1497\u001b[0m \u001b[39m# this function, and just call forward.\u001b[39;00m\n\u001b[1;32m   1498\u001b[0m \u001b[39mif\u001b[39;00m \u001b[39mnot\u001b[39;00m (\u001b[39mself\u001b[39m\u001b[39m.\u001b[39m_backward_hooks \u001b[39mor\u001b[39;00m \u001b[39mself\u001b[39m\u001b[39m.\u001b[39m_backward_pre_hooks \u001b[39mor\u001b[39;00m \u001b[39mself\u001b[39m\u001b[39m.\u001b[39m_forward_hooks \u001b[39mor\u001b[39;00m \u001b[39mself\u001b[39m\u001b[39m.\u001b[39m_forward_pre_hooks\n\u001b[1;32m   1499\u001b[0m         \u001b[39mor\u001b[39;00m _global_backward_pre_hooks \u001b[39mor\u001b[39;00m _global_backward_hooks\n\u001b[1;32m   1500\u001b[0m         \u001b[39mor\u001b[39;00m _global_forward_hooks \u001b[39mor\u001b[39;00m _global_forward_pre_hooks):\n\u001b[0;32m-> 1501\u001b[0m     \u001b[39mreturn\u001b[39;00m forward_call(\u001b[39m*\u001b[39;49margs, \u001b[39m*\u001b[39;49m\u001b[39m*\u001b[39;49mkwargs)\n\u001b[1;32m   1502\u001b[0m \u001b[39m# Do not call functions when jit is used\u001b[39;00m\n\u001b[1;32m   1503\u001b[0m full_backward_hooks, non_full_backward_hooks \u001b[39m=\u001b[39m [], []\n",
      "File \u001b[0;32m~/miniconda3/envs/llama2/lib/python3.10/site-packages/transformers/models/bart/modeling_bart.py:830\u001b[0m, in \u001b[0;36mBartEncoder.forward\u001b[0;34m(self, input_ids, attention_mask, head_mask, inputs_embeds, output_attentions, output_hidden_states, return_dict)\u001b[0m\n\u001b[1;32m    827\u001b[0m \u001b[39m# expand attention_mask\u001b[39;00m\n\u001b[1;32m    828\u001b[0m \u001b[39mif\u001b[39;00m attention_mask \u001b[39mis\u001b[39;00m \u001b[39mnot\u001b[39;00m \u001b[39mNone\u001b[39;00m:\n\u001b[1;32m    829\u001b[0m     \u001b[39m# [bsz, seq_len] -> [bsz, 1, tgt_seq_len, src_seq_len]\u001b[39;00m\n\u001b[0;32m--> 830\u001b[0m     attention_mask \u001b[39m=\u001b[39m _expand_mask(attention_mask, inputs_embeds\u001b[39m.\u001b[39;49mdtype)\n\u001b[1;32m    832\u001b[0m encoder_states \u001b[39m=\u001b[39m () \u001b[39mif\u001b[39;00m output_hidden_states \u001b[39melse\u001b[39;00m \u001b[39mNone\u001b[39;00m\n\u001b[1;32m    833\u001b[0m all_attentions \u001b[39m=\u001b[39m () \u001b[39mif\u001b[39;00m output_attentions \u001b[39melse\u001b[39;00m \u001b[39mNone\u001b[39;00m\n",
      "File \u001b[0;32m~/miniconda3/envs/llama2/lib/python3.10/site-packages/transformers/models/bart/modeling_bart.py:110\u001b[0m, in \u001b[0;36m_expand_mask\u001b[0;34m(mask, dtype, tgt_len)\u001b[0m\n\u001b[1;32m    106\u001b[0m \u001b[39mdef\u001b[39;00m \u001b[39m_expand_mask\u001b[39m(mask: torch\u001b[39m.\u001b[39mTensor, dtype: torch\u001b[39m.\u001b[39mdtype, tgt_len: Optional[\u001b[39mint\u001b[39m] \u001b[39m=\u001b[39m \u001b[39mNone\u001b[39;00m):\n\u001b[1;32m    107\u001b[0m \u001b[39m    \u001b[39m\u001b[39m\"\"\"\u001b[39;00m\n\u001b[1;32m    108\u001b[0m \u001b[39m    Expands attention_mask from `[bsz, seq_len]` to `[bsz, 1, tgt_seq_len, src_seq_len]`.\u001b[39;00m\n\u001b[1;32m    109\u001b[0m \u001b[39m    \"\"\"\u001b[39;00m\n\u001b[0;32m--> 110\u001b[0m     bsz, src_len \u001b[39m=\u001b[39m mask\u001b[39m.\u001b[39msize()\n\u001b[1;32m    111\u001b[0m     tgt_len \u001b[39m=\u001b[39m tgt_len \u001b[39mif\u001b[39;00m tgt_len \u001b[39mis\u001b[39;00m \u001b[39mnot\u001b[39;00m \u001b[39mNone\u001b[39;00m \u001b[39melse\u001b[39;00m src_len\n\u001b[1;32m    113\u001b[0m     expanded_mask \u001b[39m=\u001b[39m mask[:, \u001b[39mNone\u001b[39;00m, \u001b[39mNone\u001b[39;00m, :]\u001b[39m.\u001b[39mexpand(bsz, \u001b[39m1\u001b[39m, tgt_len, src_len)\u001b[39m.\u001b[39mto(dtype)\n",
      "\u001b[0;31mValueError\u001b[0m: not enough values to unpack (expected 2, got 1)"
     ]
    }
   ],
   "source": [
    "from transformers import BartTokenizer, \n",
    "import torch\n",
    "\n",
    "\n",
    "from custom_BARTs.noise_encoder_BART import BartForConditionalGeneration, BartConfig\n",
    "\n",
    "# Specify CPU as device\n",
    "device = torch.device(\"cpu\")\n",
    "\n",
    "# Load pretrained model and tokenizer\n",
    "model_path = \"saved_models/BART_summary_with_noise_working_p3\"  # Replace with your saved model path\n",
    "model = BartForConditionalGeneration.from_pretrained(model_path).to(device)\n",
    "tokenizer = BartTokenizer.from_pretrained('facebook/bart-base')\n",
    "\n",
    "# Dummy input and attention mask\n",
    "input_ids = tokenizer.encode(summary, truncation=True, padding='max_length', max_length=1024, return_tensors='pt').to(device)\n",
    "                    \n",
    "attention_mask = torch.ones(input_ids.shape, dtype=torch.long, device=device)\n",
    "\n",
    "# Generate summary ids\n",
    "summary_ids = model.generate(input_ids, attention_mask=attention_mask, max_length=1024, num_beams=1, temperature=1.5)\n",
    "\n",
    "# Decode and print the summary\n",
    "summary = tokenizer.decode(summary_ids[0], skip_special_tokens=True)\n",
    "print(summary)"
   ]
  },
  {
   "cell_type": "code",
   "execution_count": null,
   "metadata": {},
   "outputs": [],
   "source": []
  }
 ],
 "metadata": {
  "kernelspec": {
   "display_name": "llama2",
   "language": "python",
   "name": "python3"
  },
  "language_info": {
   "codemirror_mode": {
    "name": "ipython",
    "version": 3
   },
   "file_extension": ".py",
   "mimetype": "text/x-python",
   "name": "python",
   "nbconvert_exporter": "python",
   "pygments_lexer": "ipython3",
   "version": "3.10.12"
  },
  "orig_nbformat": 4
 },
 "nbformat": 4,
 "nbformat_minor": 2
}
