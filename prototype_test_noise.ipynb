{
 "cells": [
  {
   "cell_type": "code",
   "execution_count": 21,
   "metadata": {},
   "outputs": [
    {
     "name": "stderr",
     "output_type": "stream",
     "text": [
      "Found cached dataset csv (/data1/sanps/hf_cache/kmfoda___csv/kmfoda--booksum-025141c210e07407/0.0.0/6954658bab30a358235fa864b05cf819af0e179325c740e4bc853bcc7ec513e1)\n",
      "100%|██████████| 3/3 [00:00<00:00, 798.86it/s]\n",
      "Loading cached processed dataset at /data1/sanps/hf_cache/kmfoda___csv/kmfoda--booksum-025141c210e07407/0.0.0/6954658bab30a358235fa864b05cf819af0e179325c740e4bc853bcc7ec513e1/cache-9bc715002647e65b.arrow\n"
     ]
    },
    {
     "name": "stdout",
     "output_type": "stream",
     "text": [
      "Random index:  452\n",
      "Original summary:  And now, back to Adam. When last we saw him, Adam Bede was walking home. His destination is a \"thatched house, with a stack of timber by the side of it\" . And in this house waits Adam's mother, Lisbeth Bede, a tall, hardy, and very sad woman. Why is Lisbeth sad? Pretty much all thanks to Adam's father, Thias Bede. Instead of doing his work, Thias tends to run off and get drunk. On this particular evening, Adam comes home to find that Thias has left a coffin unfinished. Angered by this, Adam decides to finish the coffin himself. Even if he doesn't sleep, even if he doesn't eat, he'll finish that %@$#*@ coffin. His harsh response upsets Lisbeth, who starts to cry, and reminds him that Thias had once been \"a fine-growed man an' handy at everythin'\" . Adam angrily sets to work. The situation between him and his mother remains tense even when Seth, the family peacemaker, finally shows up. Adam orders Seth to \"shut the door so as I mayn't hear Mother's talk\" . But soon Lisbeth and Seth get to talking. It happens that there's another bone of contention between Adam and Lisbeth. Adam has fallen in love with a pretty young woman named Hetty Sorrel. But as Lisbeth tells Seth, Hetty is the kind of woman who \"as is o' no more use nor the gillyflower on the wall\" . Um, what? Roughly translated, she's useless. But back to Adam. In the course of his work, Adam begins to think about the past, and remembers \"what a fine active fellow\" his father had once been . He also remembers how, annoyed with his father's worsening habits, he had once thought of leaving home. Yet he couldn't bring himself to abandon Seth and Lisbeth, who would have to \"endure everything without him\" . Would you ever imagine that there's a spooky turn ahead? Well, there is. Adam hears a \"smart rap, as with a willow wand\" and wonders what it could mean . Is something wrong in the universe? He's not superstitious, but it is night, he's tired, and he's getting a little skeeved out... In no time at all, it's daybreak, the coffin is finished, and Adam needs to deliver it to its rightful owner. He and Seth prop it on their shoulders and set off into the \"fresh morning, with its Edenlike peace and loveliness\" . Everything suddenly seems good. Actually, it's all too good to be true. While walking back home, Seth notices a strange shape floating in a brook. He points it out, and Adam feels an instinctive dread. The body is Thias Bede. R.I.P. Adam rushes home and orders his mother to prepare a hot blanket. He can't bring himself just yet to tell her what happened to Thias, but he already feels pangs of remorse. As the narrator sums it up, \"it is never our tenderness that we repent of, but our severity\" .\n",
      "Generated summary:  In the end of the night, Adam passes up. Adam's mother comes home. His destination is a \"thatched window, with a lot of flowers lined it. And in this house is his father's, a tall, lumpy, and very sad woman. Which is what is all thanks to Adam's father, Lisbeth, and tells him that there's a second back to Adam. In the way that he comes home and gets drunk. On the day of his mother's death, Frank comes home to find a coffin hanging in the coffin. In fact, Adam decides to sleep on and get drunk. At the time of death, Adam and his mother are dead. Even though Adam does not sleep, even, she decides to put the coffin together himself. But soon, as if he doesn't understand, he'll finish the second part of the work between Adam and Lisbos. Adam is angry about Adam and tells himself that Thias had once been \"a lot of time, but now Seth's mother is coming up with Seth, who's not happy. But now Seth is pleased to be with Adam. Adam asks Seth to \"shut the door down and open the door himself,\" but soon, even if Seth does not hear anything. \"The father's not quite yet, he will finish the work. Adam has fallen in love with Seth. He's fallen in anger with Adam and the gurd, who would \"shut everything down\". He's gotten drunk. The situation with his first night of drinking, he's become a mess of \"mouth\". Um, what's all going to be like?\"\n"
     ]
    }
   ],
   "source": [
    "import torch\n",
    "import wandb\n",
    "from torch.utils.data import DataLoader\n",
    "from transformers import BartTokenizer, Trainer, TrainingArguments\n",
    "from datasets import load_dataset\n",
    "\n",
    "from scripts.custom_BARTs.noise_encoder_BART import (\n",
    "    BartForConditionalGeneration,\n",
    "    BartConfig,\n",
    ")\n",
    "\n",
    "\n",
    "# Initialize GPU\n",
    "device = torch.device(\"cpu\")\n",
    "\n",
    "# Load dataset\n",
    "dataset = load_dataset(\"kmfoda/booksum\")\n",
    "train_dataset = dataset[\"train\"]\n",
    "\n",
    "# Initialize BART model and tokenizer\n",
    "tokenizer = BartTokenizer.from_pretrained(\"facebook/bart-base\")\n",
    "config = BartConfig.from_pretrained(\"facebook/bart-base\")\n",
    "config.encoder_gaussian_ratio = 0.45\n",
    "model = BartForConditionalGeneration.from_pretrained(\n",
    "    \"./saved_models/BART_summary_with_noise_working_p1_45\", config=config\n",
    ").to(device)\n",
    "\n",
    "\n",
    "# Tokenize the 'summary_text' field\n",
    "def tokenize_data(example):\n",
    "    encoded_summary = tokenizer.encode(\n",
    "        example[\"summary_text\"], truncation=True, padding=\"max_length\", max_length=1024\n",
    "    )\n",
    "    return {\n",
    "        \"labels\": encoded_summary,\n",
    "        \"input_ids\": encoded_summary,  # Dummy input_ids\n",
    "        \"attention_mask\": [1] * len(encoded_summary),  # Dummy attention_mask\n",
    "    }\n",
    "\n",
    "\n",
    "tokenized_dataset = train_dataset.map(tokenize_data)\n",
    "\n",
    "# print one random summary\n",
    "import random\n",
    "\n",
    "# random.seed(42)\n",
    "random_index = 452#random.randint(0, len(train_dataset))\n",
    "print(\"Random index: \", random_index)\n",
    "print(\"Original summary: \", train_dataset[random_index][\"summary_text\"])\n",
    "\n",
    "input_ids = torch.tensor(tokenized_dataset[random_index][\"input_ids\"]).to(device)\n",
    "output = model.generate(input_ids.unsqueeze(0), max_length=1024).to(device)\n",
    "\n",
    "print(\"Generated summary: \", tokenizer.decode(output[0], skip_special_tokens=True))"
   ]
  },
  {
   "cell_type": "code",
   "execution_count": null,
   "metadata": {},
   "outputs": [],
   "source": []
  }
 ],
 "metadata": {
  "kernelspec": {
   "display_name": "llama2",
   "language": "python",
   "name": "python3"
  },
  "language_info": {
   "codemirror_mode": {
    "name": "ipython",
    "version": 3
   },
   "file_extension": ".py",
   "mimetype": "text/x-python",
   "name": "python",
   "nbconvert_exporter": "python",
   "pygments_lexer": "ipython3",
   "version": "3.10.12"
  },
  "orig_nbformat": 4
 },
 "nbformat": 4,
 "nbformat_minor": 2
}
