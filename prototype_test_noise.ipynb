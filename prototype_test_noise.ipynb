{
 "cells": [
  {
   "cell_type": "code",
   "execution_count": 2,
   "metadata": {},
   "outputs": [
    {
     "name": "stderr",
     "output_type": "stream",
     "text": [
      "Loading cached processed dataset at /data1/sanps/diffusion_transformer/data/booksum_one_sentence_dataset/train/cache-9c70589dc3ee05d6.arrow\n"
     ]
    },
    {
     "name": "stdout",
     "output_type": "stream",
     "text": [
      "Random index:  452\n",
      "Original summary:  Adam Bede returns home to find his mother, Lisbeth, sad due to his father's drunkenness, and he decides to finish an unfinished coffin, causing tension between him and Lisbeth; later, while delivering the coffin, they discover the body of Adam's father, Thias, in a brook.\n",
      "Generated summary:  2018 ch's de ill as s comes l first f estle to preparing UcostelingMacCOM Swedish taking est est, estost his est est Vital election to est town� hotel his ward his to his calculating their daughter his leaving Quint ReginaCOM and Tomas ward Cec2018 willCOM ‎ ceeni preparing his happiness to taking his self est and pos Mr remaining Will c guest Catherine their c� pollCOM and the other to chart- sonsÍ decidingCOM est and estim choice his deciding to est est est liv host his Mr est est and his el mother takes an to deciding the theois citydo welcomed to to andois his deCOM to father _COM one city father his the city deciding of city do will volunteers fl Swedish leaves his editor Cec to take his his designer c est his his his taking his Mr his his may his secretary est fresh and his Swedish� fresh \" his his delivering his der. est determined takes to her c to his hire Cec deciding at their determination town his free town for calculations deciding to her pick her takes his next can Utah est performer his her guests to delivered hom town Swed c taking her another Javier the the hit's maiden conscientious her calculating to guests to the city to decide Romeo mother to take one returning Javier their prepared deciding to daughter to prepared the town takes maiden his chances his her returns deciding determined to to determined the final inher taking his daughter adjusting Vermont ward his daughter and his prepared prepared their council city to executed her guest- prepared the third ward his will prepared the final takes coming returning to returning to to his notices determined est the acting to her fresh est the pick gun to next their editor as come Cec her deciding and Swed estiously take returning est but take est but come her maiden the fresh's pillicks his log returning est the returning \" about expensive Cec promises decision to and hastois her returning's Vill to island thevenge does to prepared her Ned Cec deciding to surprised his returning est her c of his his prepared town his executed her executed his his will his Swedish his calam body returning est their taking his their prepared the her his executed prepared them foul prepared the their taken another her will will's prepared the come and his c the prepared the expected her prepared her will her's maiden determined and est taking English determined taking returningogan her health his daughter to ha the another glad Swedish Cec to their of's carried planning pregnant and c guest decide their determined the come future his theix election determined his returning Cec planning town potion expected returningois daughter returningois c maiden deliver l his maiden choice to prepared deciding and his his convincing decision l swear his potionix further returning ward of determined the est her prepared returning her will c opinion his toois his her deciding returning his prepared choice to est his their determined ward his prepared choosing to his planning her prepared decision to prepared planning their their will determined to his prepared Ender his prepared their to his will will their prepared Vic her will his prepared ward his their to prepared will to will daughter plan his his their will prepared Ned his will to prepared to taken est his prepared c taken his returning to their determinedix the notice their their prepared ward their his prepared executed of his their daughter notice his will her will to his daughter daughters will planning state her their est est his the his their informed will planning her his her prepared to will, ward of will planning will and will planning their to their delivered returning to prepared determines returning will daughter visit his their further maiden est est prepared to est to to her town her leaves to his son daughter decision to maiden returning to deliver delivering town his will town to his free to the Hector her appearance to maiden to son to's delivering delivering deliver returning to city his his deciding his fresh to his delivered daughters his executed the birthdayix inher Cec deciding Ned to council to c vows to of determined to decision to his delivering daughter to his delivers's to's maiden to decision determined to Cecil city their determined to determined to will of determined deciding inher est planning his warns to his his delivers daughter deliver town do his determined his next daughter deliver to their to city their to to year to their inher decision to determines to to to their assures to to returning of town his prepared to his Cec to his determined their will of to daughter their determined their expected his their his is returning to town to to health to of to determined their his maiden her his taken will and to state of their to deciding to to will to town her his to to city the to to maiden his Ned determined enjoying est executed will to police to to hom est of daughter will to the to deciding next will will will to to inher to to daughters awaits to daughter her his Cec state to est inheritance to daughters, town his son to to next to their Cec Quint his determined notices his next of their determined notices returning their prepares his father to will their convincing and his delivering to city her her town city their leaves to Dre to to son deciding city to inher Cec daughter to her to of son deciding the son their determined decides of his determined decides city his healthost do to to delivering to to deciding notices to his the returning to of delivering to determination their deciding notices his\n",
      "Generated summary, noise ratio 0.0: Adam Bede returns home to find his mother, Lisbeth, sad due to his father's drunkenness, and he decides to finish an unfinished coffin, causing tension between him and LisbETH; later, while delivering the coffin, they discover the body of Adam's father, Thias, in a brook.\n",
      "Generated summary, noise ratio 0.3: Adam Bede returns home to find his mother, Lisbeth, sad due to his father's drunkenness; later, while delivering the coffin, they discover the body of Adam's father, Thias, in a brook.\n",
      "Generated summary, noise ratio 0.5: Adam returns back to Lisbeth, meanwhile to the second coffin and has to finish it, and instead to return to the first coffin, hunting the coffin, where Lisber goes there, leaving the bottom, where to have been and the body of the dead coffin, they find the boat of Sebastian to travel to God and Sebastian the following boat.\n",
      "Generated summary, noise ratio 0.7: OM -Cands and M?\", and intto two andtto two two two and three two two; and leave in two, have and in Z real Boston that night two charges and frightitch and PA- Crom, $de; and 7in Lady nightduothe is two and MM to and in Saint night is in MCharles barg, a two, and in Leaves and ChristmasW both and and night, Ru and fright and incomes, and and regret and a and in and, aMrs, in aTh October and State in a in leaves\" a\" two and a inishes and in a on two on and and in MinnesotaB, Quint ruining and aindu Lady and a desp a fet a fet barg inMIN and two in go com in Lady night in and night in upon for town ahol to and aMIN night two barg in days and and and downtown ruin facing Mrs fright leaves terrified, Quint a ruin years in leaves against in March and and anight and in City sc reprim\" and upon months two in Christmas and in two in and downtown a\" and a nature ruin in remains four and disappointment ruin a in a and Ohio and leaving on Montreal and Ohio on and Indianapolis, leaves one two two Town a vengeance in and Minnesota in and Ohio\" \" in bust \" in ruin in in and in \" and in March in. a bad a fault two in sent\" upon two Quint \" andolph in Miss and a run and\" in Miss in in D upon in two and twoPA and and two S in twoland and for and Miss Christ and and the bitter and in- and causes andears in his a and is in between in- night in the and a Miss\" Dallas and the Miss and in the. and causing in F two and in Christ blame in M and is and in in illness, in Chicago and a two in Ohio in India Athens Miss winter in and winteraint and in Chicago Hades in Lady, in in sick in Lady S two. in in City in and a Town and causing and- Beauty and prison melancholy in between Charlotte is and winter Town in cities in Fall and a serious and and live over Miss a- to. and against Paris andoppers in a against against scandal and and on and against is facing in against a against ill, and Mrs S against a and a downtown and- between against and is facing is in. and M a to ill, facing two a less and his and winter in City is between weather pregnant and winter a in and Charlotte wrong in discont. a S two a \" downtown and and winter disappointment in a- and downtown winter facing and winter and facing- on and to a in an and two,\" in and and Athens two in a winter and two, battle Town and, facing ill downtown facing and- Miss and winter disappointed and between disappointed, between disappointed is and Charlotte facing and and. against a in in a is and and,\" and a city and, and twoint between and downtown Pat two in two two him a city between disappointed and standing in downtown a downtown against a downtown in a ill- downtown- and to two and and- and-- downtown man fears and and is face and- in and city- facing is and. facing- and city facing- a- fall out between disappointed- well and downtown and downtown- is and downtown is his and downtown facing- to against a his--- to face is and his- and a a- face to him ill his and- winter against cities face disappointed and new a downtown- a and facingandal and facing ill-- and. face disappointed facing- two- and new snow and and Prince fear disappointed facing downtown to pregnant and a him a\" in disappointed facing city a downtown winter face ill a downtown face disappointed face winter facing business and facing and facing a two and city disappointed a new a\"- a downtown two sc two and downtown disappointment facing downtown and cities ill and facing \" a and outside merry downtown fear downtown fears fear- and facing downtown, and downtown fear in and twoth pregnant winter disappointment ruin ill a and downtown, facing a downtown pride- a business winter two sc pregnant, a business both fear fear facing downtown sc facing and downtown pride facing city and ill fear a fear downtown, downtown a fault ill disappointed sc pride a man ruin ill disappointed a and and sc angry facing downtown two ill and sc facing facing ill and wounded in causing and in bust two facing face and in city facing facing against and Hall in city and and world sc pride downtown two Mc and and town angry a and \" facing and outside a downtown a and between- and and Dallas disappointed th and two downtown accident disappointed- and S and is a downtown downtown pregnant a and city winter him witches. fear fear respectively a S disappointed angry- a male and a against and downtown man disappointed and disappointed new and- downtown fears- fear fear disappointed and in three ill on winter and a ill Dallas and a fear disappointment a a downtown fear a two angry- fear and angry and disappointed disappointed a a disappointed disappointed disappointed- a sc disappointed-\n"
     ]
    }
   ],
   "source": [
    "import torch\n",
    "import wandb\n",
    "from torch.utils.data import DataLoader\n",
    "from transformers import BartTokenizer, Trainer, TrainingArguments\n",
    "from datasets import load_dataset, load_from_disk\n",
    "\n",
    "from scripts.custom_BARTs.noise_encoder_BART import (\n",
    "    BartForConditionalGeneration,\n",
    "    BartConfig,\n",
    ")\n",
    "\n",
    "\n",
    "# Initialize GPU\n",
    "device = torch.device(\"cpu\")\n",
    "\n",
    "# Load dataset\n",
    "dataset = load_from_disk(\"data/booksum_one_sentence_dataset\")\n",
    "#dataset = load_dataset(\"kmfoda/booksum\")\n",
    "train_dataset = dataset[\"train\"]\n",
    "\n",
    "# Initialize BART model and tokenizer\n",
    "tokenizer = BartTokenizer.from_pretrained(\"facebook/bart-base\")\n",
    "config = BartConfig.from_pretrained(\"facebook/bart-base\")\n",
    "config.encoder_gaussian_ratio = 0.7\n",
    "model = BartForConditionalGeneration.from_pretrained(\n",
    "    \"./saved_models/BART_summary_with_noise_working_p1_45\", config=config\n",
    ").to(device)\n",
    "\n",
    "\n",
    "# Tokenize the 'summary_text' field\n",
    "def tokenize_data(example):\n",
    "    encoded_summary = tokenizer.encode(\n",
    "        example[\"one_sentence_summary\"], truncation=True, padding=\"max_length\", max_length=128\n",
    "    )\n",
    "    return {\n",
    "        \"labels\": encoded_summary,\n",
    "        \"input_ids\": encoded_summary,  # Dummy input_ids\n",
    "        \"attention_mask\": [1] * len(encoded_summary),  # Dummy attention_mask\n",
    "    }\n",
    "\n",
    "\n",
    "tokenized_dataset = train_dataset.map(tokenize_data)\n",
    "\n",
    "# print one random summary\n",
    "import random\n",
    "\n",
    "# random.seed(42)\n",
    "random_index = 452#random.randint(0, len(train_dataset))\n",
    "print(\"Random index: \", random_index)\n",
    "print(\"Original summary: \", train_dataset[random_index][\"one_sentence_summary\"])\n",
    "\n",
    "input_ids = torch.tensor(tokenized_dataset[random_index][\"input_ids\"]).to(device)\n",
    "output = model.generate(input_ids.unsqueeze(0), max_length=1024).to(device)\n",
    "\n",
    "print(\"Generated summary: \", tokenizer.decode(output[0], skip_special_tokens=True))\n",
    "\n",
    "model.config.encoder_gaussian_ratio = 0.0\n",
    "output = model.generate(input_ids.unsqueeze(0), max_length=1024).to(device)\n",
    "print(\"Generated summary, noise ratio {}:\".format(model.config.encoder_gaussian_ratio), tokenizer.decode(output[0], skip_special_tokens=True))\n",
    "\n",
    "model.config.encoder_gaussian_ratio = 0.3\n",
    "output = model.generate(input_ids.unsqueeze(0), max_length=1024).to(device)\n",
    "print(\"Generated summary, noise ratio {}:\".format(model.config.encoder_gaussian_ratio), tokenizer.decode(output[0], skip_special_tokens=True))\n",
    "\n",
    "model.config.encoder_gaussian_ratio = 0.5\n",
    "output = model.generate(input_ids.unsqueeze(0), max_length=1024).to(device)\n",
    "print(\"Generated summary, noise ratio {}:\".format(model.config.encoder_gaussian_ratio), tokenizer.decode(output[0], skip_special_tokens=True))\n",
    "\n",
    "model.config.encoder_gaussian_ratio = 0.7\n",
    "output = model.generate(input_ids.unsqueeze(0), max_length=1024).to(device)\n",
    "print(\"Generated summary, noise ratio {}:\".format(model.config.encoder_gaussian_ratio), tokenizer.decode(output[0], skip_special_tokens=True))\n"
   ]
  },
  {
   "cell_type": "code",
   "execution_count": null,
   "metadata": {},
   "outputs": [],
   "source": [
    "# print 3 random summaries\n",
    "\n",
    "for i in range(3):\n",
    "    random_index = random.randint(0, len(train_dataset))\n",
    "    print(\"Random index: \", random_index)\n",
    "    print(\"Original summary: \", train_dataset[random_index][\"summary_text\"])\n",
    "\n",
    "    input_ids = torch.tensor(tokenized_dataset[random_index][\"input_ids\"]).to(device)\n",
    "    output = model.generate(input_ids.unsqueeze(0), max_length=1024).to(device)\n",
    "\n",
    "    print(\"Generated summary: \", tokenizer.decode(output[0], skip_special_tokens=True))"
   ]
  },
  {
   "cell_type": "code",
   "execution_count": null,
   "metadata": {},
   "outputs": [],
   "source": []
  }
 ],
 "metadata": {
  "kernelspec": {
   "display_name": "llama2",
   "language": "python",
   "name": "python3"
  },
  "language_info": {
   "codemirror_mode": {
    "name": "ipython",
    "version": 3
   },
   "file_extension": ".py",
   "mimetype": "text/x-python",
   "name": "python",
   "nbconvert_exporter": "python",
   "pygments_lexer": "ipython3",
   "version": "3.10.12"
  },
  "orig_nbformat": 4
 },
 "nbformat": 4,
 "nbformat_minor": 2
}
